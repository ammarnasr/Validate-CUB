{
  "nbformat": 4,
  "nbformat_minor": 0,
  "metadata": {
    "colab": {
      "name": "Validate-CUB-sent-attn-570.ipynb",
      "provenance": [],
      "collapsed_sections": [],
      "toc_visible": true
    },
    "kernelspec": {
      "name": "python3",
      "display_name": "Python 3"
    },
    "accelerator": "GPU"
  },
  "cells": [
    {
      "cell_type": "code",
      "metadata": {
        "id": "zA9csLagcI02",
        "colab_type": "code",
        "colab": {}
      },
      "source": [
        "import os"
      ],
      "execution_count": 1,
      "outputs": []
    },
    {
      "cell_type": "code",
      "metadata": {
        "id": "PolBTuJBb_6H",
        "colab_type": "code",
        "colab": {
          "base_uri": "https://localhost:8080/",
          "height": 117
        },
        "outputId": "c83e2ce8-d918-4240-b9f7-3061fde03458"
      },
      "source": [
        "os.chdir('/content')\n",
        "!rm -r AttnGAN\n",
        "!git clone https://github.com/taoxugit/AttnGAN.git"
      ],
      "execution_count": 2,
      "outputs": [
        {
          "output_type": "stream",
          "text": [
            "rm: cannot remove 'AttnGAN': No such file or directory\n",
            "Cloning into 'AttnGAN'...\n",
            "remote: Enumerating objects: 291, done.\u001b[K\n",
            "remote: Total 291 (delta 0), reused 0 (delta 0), pack-reused 291\u001b[K\n",
            "Receiving objects: 100% (291/291), 36.76 MiB | 6.32 MiB/s, done.\n",
            "Resolving deltas: 100% (167/167), done.\n"
          ],
          "name": "stdout"
        }
      ]
    },
    {
      "cell_type": "code",
      "metadata": {
        "id": "DBM_tUR4fbtm",
        "colab_type": "code",
        "colab": {}
      },
      "source": [
        "os.chdir('/content/AttnGAN/data/')\n",
        "!wget --no-check-certificate 'https://docs.google.com/uc?export=download&id=1O_LtUP9sch09QH3s_EBAgLEctBQ5JBSJ' -O birds.zip\n",
        "!unzip -q birds.zip\n",
        "!rm birds.zip\n",
        "!rm -r __MACOSX/"
      ],
      "execution_count": null,
      "outputs": []
    },
    {
      "cell_type": "code",
      "metadata": {
        "id": "9oOwplfXf6aK",
        "colab_type": "code",
        "colab": {}
      },
      "source": [
        "os.chdir('/content/AttnGAN/data/birds')\n",
        "!unzip -q text.zip\n",
        "!rm text.zip"
      ],
      "execution_count": 4,
      "outputs": []
    },
    {
      "cell_type": "code",
      "metadata": {
        "id": "T5ueMbDcgYo2",
        "colab_type": "code",
        "colab": {}
      },
      "source": [
        "os.chdir('/content/AttnGAN/data/birds/')\n",
        "!wget http://www.vision.caltech.edu/visipedia-data/CUB-200-2011/CUB_200_2011.tgz\n",
        "!tar zxf  CUB_200_2011.tgz\n",
        "!rm CUB_200_2011.tgz"
      ],
      "execution_count": null,
      "outputs": []
    },
    {
      "cell_type": "code",
      "metadata": {
        "id": "kMT2FQDhlEWy",
        "colab_type": "code",
        "colab": {}
      },
      "source": [
        "os.chdir('/content/AttnGAN/DAMSMencoders/')\n",
        "os.mkdir('bird')"
      ],
      "execution_count": 6,
      "outputs": []
    },
    {
      "cell_type": "code",
      "metadata": {
        "id": "XaEngHiXsOr3",
        "colab_type": "code",
        "colab": {}
      },
      "source": [
        "os.chdir('/content/AttnGAN/code/')\n",
        "!wget --no-check-certificate 'https://docs.google.com/uc?export=download&id=1Wr3lQajG7m6Bi3rYFTJb6mwE_d8su111' -O Pillow.rar\n",
        "!unrar x  Pillow.rar\n",
        "!rm Pillow.rar"
      ],
      "execution_count": null,
      "outputs": []
    },
    {
      "cell_type": "code",
      "metadata": {
        "id": "M9iyPY2hz7Uv",
        "colab_type": "code",
        "colab": {}
      },
      "source": [
        "os.chdir('/content')\n",
        "#Dwonload files config.py, utils.py, datasets.py, pretrain_DAMSM.py\n",
        "!git clone https://github.com/ammarnasr/CUB-Attn-GAN.git\n"
      ],
      "execution_count": null,
      "outputs": []
    },
    {
      "cell_type": "code",
      "metadata": {
        "id": "8_-RVVeUkKvD",
        "colab_type": "code",
        "colab": {}
      },
      "source": [
        "os.chdir('/content')\n",
        "#Dwonload files config.py, utils.py, datasets.py, pretrain_DAMSM.py\n",
        "!git clone https://github.com/ammarnasr/CUB-Attn-GAN.git\n",
        "\n",
        "# #Move Models text and image encoder to their /content/\n",
        "!mv /content/CUB-Attn-GAN/theModel/text_encoder599.pth /content/\n",
        "!mv /content/CUB-Attn-GAN/theModel/image_encoder599.pth /content/\n",
        "!mv /content/CUB-Attn-GAN/theModel/GAN/sent_attn_570/netG_epoch_600.pth /content/\n",
        "\n",
        "#Remove the Repo\n",
        "!rm -r /content/CUB-Attn-GAN/\n",
        "\n",
        "#Move Models text and image encoder to their /content/\n",
        "!mv /content/text_encoder599.pth /content/AttnGAN/DAMSMencoders/bird/\n",
        "!mv /content/image_encoder599.pth /content/AttnGAN/DAMSMencoders/bird/\n",
        "!mv /content/netG_epoch_600.pth /content/AttnGAN/models/"
      ],
      "execution_count": null,
      "outputs": []
    },
    {
      "cell_type": "markdown",
      "metadata": {
        "id": "1NhlvNfvcihB",
        "colab_type": "text"
      },
      "source": [
        "==================================================================================================================="
      ]
    },
    {
      "cell_type": "code",
      "metadata": {
        "id": "bL5P9M-ecd1m",
        "colab_type": "code",
        "colab": {
          "base_uri": "https://localhost:8080/",
          "height": 133
        },
        "outputId": "b548fb6b-73b8-4bae-f617-8e99a93d119d"
      },
      "source": [
        "os.chdir('/content')\n",
        "!rm -r Validate-CUB\n",
        "!git clone https://github.com/ammarnasr/Validate-CUB.git"
      ],
      "execution_count": 31,
      "outputs": [
        {
          "output_type": "stream",
          "text": [
            "Cloning into 'Validate-CUB'...\n",
            "remote: Enumerating objects: 146, done.\u001b[K\n",
            "remote: Counting objects:   0% (1/146)\u001b[K\rremote: Counting objects:   1% (2/146)\u001b[K\rremote: Counting objects:   2% (3/146)\u001b[K\rremote: Counting objects:   3% (5/146)\u001b[K\rremote: Counting objects:   4% (6/146)\u001b[K\rremote: Counting objects:   5% (8/146)\u001b[K\rremote: Counting objects:   6% (9/146)\u001b[K\rremote: Counting objects:   7% (11/146)\u001b[K\rremote: Counting objects:   8% (12/146)\u001b[K\rremote: Counting objects:   9% (14/146)\u001b[K\rremote: Counting objects:  10% (15/146)\u001b[K\rremote: Counting objects:  11% (17/146)\u001b[K\rremote: Counting objects:  12% (18/146)\u001b[K\rremote: Counting objects:  13% (19/146)\u001b[K\rremote: Counting objects:  14% (21/146)\u001b[K\rremote: Counting objects:  15% (22/146)\u001b[K\rremote: Counting objects:  16% (24/146)\u001b[K\rremote: Counting objects:  17% (25/146)\u001b[K\rremote: Counting objects:  18% (27/146)\u001b[K\rremote: Counting objects:  19% (28/146)\u001b[K\rremote: Counting objects:  20% (30/146)\u001b[K\rremote: Counting objects:  21% (31/146)\u001b[K\rremote: Counting objects:  22% (33/146)\u001b[K\rremote: Counting objects:  23% (34/146)\u001b[K\rremote: Counting objects:  24% (36/146)\u001b[K\rremote: Counting objects:  25% (37/146)\u001b[K\rremote: Counting objects:  26% (38/146)\u001b[K\rremote: Counting objects:  27% (40/146)\u001b[K\rremote: Counting objects:  28% (41/146)\u001b[K\rremote: Counting objects:  29% (43/146)\u001b[K\rremote: Counting objects:  30% (44/146)\u001b[K\rremote: Counting objects:  31% (46/146)\u001b[K\rremote: Counting objects:  32% (47/146)\u001b[K\rremote: Counting objects:  33% (49/146)\u001b[K\rremote: Counting objects:  34% (50/146)\u001b[K\rremote: Counting objects:  35% (52/146)\u001b[K\rremote: Counting objects:  36% (53/146)\u001b[K\rremote: Counting objects:  37% (55/146)\u001b[K\rremote: Counting objects:  38% (56/146)\u001b[K\rremote: Counting objects:  39% (57/146)\u001b[K\rremote: Counting objects:  40% (59/146)\u001b[K\rremote: Counting objects:  41% (60/146)\u001b[K\rremote: Counting objects:  42% (62/146)\u001b[K\rremote: Counting objects:  43% (63/146)\u001b[K\rremote: Counting objects:  44% (65/146)\u001b[K\rremote: Counting objects:  45% (66/146)\u001b[K\rremote: Counting objects:  46% (68/146)\u001b[K\rremote: Counting objects:  47% (69/146)\u001b[K\rremote: Counting objects:  48% (71/146)\u001b[K\rremote: Counting objects:  49% (72/146)\u001b[K\rremote: Counting objects:  50% (73/146)\u001b[K\rremote: Counting objects:  51% (75/146)\u001b[K\rremote: Counting objects:  52% (76/146)\u001b[K\rremote: Counting objects:  53% (78/146)\u001b[K\rremote: Counting objects:  54% (79/146)\u001b[K\rremote: Counting objects:  55% (81/146)\u001b[K\rremote: Counting objects:  56% (82/146)\u001b[K\rremote: Counting objects:  57% (84/146)\u001b[K\rremote: Counting objects:  58% (85/146)\u001b[K\rremote: Counting objects:  59% (87/146)\u001b[K\rremote: Counting objects:  60% (88/146)\u001b[K\rremote: Counting objects:  61% (90/146)\u001b[K\rremote: Counting objects:  62% (91/146)\u001b[K\rremote: Counting objects:  63% (92/146)\u001b[K\rremote: Counting objects:  64% (94/146)\u001b[K\rremote: Counting objects:  65% (95/146)\u001b[K\rremote: Counting objects:  66% (97/146)\u001b[K\rremote: Counting objects:  67% (98/146)\u001b[K\rremote: Counting objects:  68% (100/146)\u001b[K\rremote: Counting objects:  69% (101/146)\u001b[K\rremote: Counting objects:  70% (103/146)\u001b[K\rremote: Counting objects:  71% (104/146)\u001b[K\rremote: Counting objects:  72% (106/146)\u001b[K\rremote: Counting objects:  73% (107/146)\u001b[K\rremote: Counting objects:  74% (109/146)\u001b[K\rremote: Counting objects:  75% (110/146)\u001b[K\rremote: Counting objects:  76% (111/146)\u001b[K\rremote: Counting objects:  77% (113/146)\u001b[K\rremote: Counting objects:  78% (114/146)\u001b[K\rremote: Counting objects:  79% (116/146)\u001b[K\rremote: Counting objects:  80% (117/146)\u001b[K\rremote: Counting objects:  81% (119/146)\u001b[K\rremote: Counting objects:  82% (120/146)\u001b[K\rremote: Counting objects:  83% (122/146)\u001b[K\rremote: Counting objects:  84% (123/146)\u001b[K\rremote: Counting objects:  85% (125/146)\u001b[K\rremote: Counting objects:  86% (126/146)\u001b[K\rremote: Counting objects:  87% (128/146)\u001b[K\rremote: Counting objects:  88% (129/146)\u001b[K\rremote: Counting objects:  89% (130/146)\u001b[K\rremote: Counting objects:  90% (132/146)\u001b[K\rremote: Counting objects:  91% (133/146)\u001b[K\rremote: Counting objects:  92% (135/146)\u001b[K\rremote: Counting objects:  93% (136/146)\u001b[K\rremote: Counting objects:  94% (138/146)\u001b[K\rremote: Counting objects:  95% (139/146)\u001b[K\rremote: Counting objects:  96% (141/146)\u001b[K\rremote: Counting objects:  97% (142/146)\u001b[K\rremote: Counting objects:  98% (144/146)\u001b[K\rremote: Counting objects:  99% (145/146)\u001b[K\rremote: Counting objects: 100% (146/146)\u001b[K\rremote: Counting objects: 100% (146/146), done.\u001b[K\n",
            "remote: Compressing objects: 100% (102/102), done.\u001b[K\n",
            "remote: Total 146 (delta 77), reused 105 (delta 39), pack-reused 0\u001b[K\n",
            "Receiving objects: 100% (146/146), 354.13 KiB | 502.00 KiB/s, done.\n",
            "Resolving deltas: 100% (77/77), done.\n"
          ],
          "name": "stdout"
        }
      ]
    },
    {
      "cell_type": "code",
      "metadata": {
        "id": "AM32T-eydhVp",
        "colab_type": "code",
        "colab": {}
      },
      "source": [
        "!mv /content/Validate-CUB/code/utils.py /content/AttnGAN/code/miscc/\n",
        "!mv /content/Validate-CUB/code/config.py /content/AttnGAN/code/miscc/\n",
        "!mv /content/Validate-CUB/code/datasets.py /content/AttnGAN/code/\n",
        "!mv /content/Validate-CUB/code/main.py /content/AttnGAN/code/\n",
        "!mv /content/Validate-CUB/modified/model.py /content/AttnGAN/code/\n",
        "!mv /content/Validate-CUB/modified/GlobalAttention.py /content/AttnGAN/code/\n",
        "!mv /content/Validate-CUB/code/trainer.py /content/AttnGAN/code/\n",
        "!mv /content/Validate-CUB/code/eval_bird.yml /content/AttnGAN/code/cfg/"
      ],
      "execution_count": 32,
      "outputs": []
    },
    {
      "cell_type": "code",
      "metadata": {
        "id": "Hyy9vb-Ebkac",
        "colab_type": "code",
        "colab": {
          "base_uri": "https://localhost:8080/",
          "height": 1000
        },
        "outputId": "6dc2f6ef-6fe8-42da-f331-a9d9ce8eee34"
      },
      "source": [
        "os.chdir('/content/AttnGAN/code')\n",
        "\n",
        "!python main.py --cfg cfg/eval_bird.yml --gpu 0"
      ],
      "execution_count": 33,
      "outputs": [
        {
          "output_type": "stream",
          "text": [
            "Using config:\n",
            "{'B_VALIDATION': True,\n",
            " 'CONFIG_NAME': 'attn2',\n",
            " 'CUDA': True,\n",
            " 'DATASET_NAME': 'birds',\n",
            " 'DATA_DIR': '../data/birds',\n",
            " 'GAN': {'B_ATTENTION': True,\n",
            "         'B_DCGAN': False,\n",
            "         'CONDITION_DIM': 100,\n",
            "         'DF_DIM': 64,\n",
            "         'GF_DIM': 32,\n",
            "         'R_NUM': 2,\n",
            "         'Z_DIM': 100},\n",
            " 'GPU_ID': 0,\n",
            " 'RNN_TYPE': 'LSTM',\n",
            " 'TEXT': {'CAPTIONS_PER_IMAGE': 10, 'EMBEDDING_DIM': 256, 'WORDS_NUM': 25},\n",
            " 'TRAIN': {'BATCH_SIZE': 32,\n",
            "           'B_NET_D': False,\n",
            "           'DISCRIMINATOR_LR': 0.0002,\n",
            "           'ENCODER_LR': 0.0002,\n",
            "           'FLAG': False,\n",
            "           'GENERATOR_LR': 0.0002,\n",
            "           'MAX_EPOCH': 600,\n",
            "           'NET_E': '../DAMSMencoders/bird/text_encoder599.pth',\n",
            "           'NET_G': '../models/netG_epoch_600.pth',\n",
            "           'RNN_GRAD_CLIP': 0.25,\n",
            "           'SMOOTH': {'GAMMA1': 5.0,\n",
            "                      'GAMMA2': 5.0,\n",
            "                      'GAMMA3': 10.0,\n",
            "                      'LAMBDA': 1.0},\n",
            "           'SNAPSHOT_INTERVAL': 2000},\n",
            " 'TREE': {'BASE_SIZE': 64, 'BRANCH_NUM': 3},\n",
            " 'WORKERS': 1}\n",
            "/usr/local/lib/python3.6/dist-packages/torchvision/transforms/transforms.py:211: UserWarning: The use of the transforms.Scale transform is deprecated, please use transforms.Resize instead.\n",
            "  \"please use transforms.Resize instead.\")\n",
            "Total filenames:  11788 001.Black_footed_Albatross/Black_Footed_Albatross_0046_18.jpg\n",
            "Load filenames from: ../data/birds/train/filenames.pickle (8855)\n",
            "Load filenames from: ../data/birds/test/filenames.pickle (2933)\n",
            "Load from:  ../data/birds/captions.pickle\n",
            "/content/AttnGAN/code/miscc/utils.py:404: UserWarning: nn.init.orthogonal is now deprecated in favor of nn.init.orthogonal_.\n",
            "  nn.init.orthogonal(m.weight.data, 1.0)\n",
            "/content/AttnGAN/code/miscc/utils.py:399: UserWarning: nn.init.orthogonal is now deprecated in favor of nn.init.orthogonal_.\n",
            "  nn.init.orthogonal(m.weight.data, 1.0)\n",
            "/usr/local/lib/python3.6/dist-packages/torch/nn/modules/rnn.py:50: UserWarning: dropout option adds dropout after all but last recurrent layer, so non-zero dropout expects num_layers greater than 1, but got dropout=0.5 and num_layers=1\n",
            "  \"num_layers={}\".format(dropout, num_layers))\n",
            "Load text encoder from: ../DAMSMencoders/bird/text_encoder599.pth\n",
            "/content/AttnGAN/code/trainer.py:373: UserWarning: volatile was removed and now has no effect. Use `with torch.no_grad():` instead.\n",
            "  noise = Variable(torch.FloatTensor(batch_size, nz), volatile=True)\n",
            "LINE==380\n",
            "-----------------netG------------------------\n",
            "G_NET(\n",
            "  (ca_net): CA_NET(\n",
            "    (fc): Linear(in_features=256, out_features=400, bias=True)\n",
            "    (relu): GLU()\n",
            "  )\n",
            "  (h_net1): INIT_STAGE_G(\n",
            "    (fc): Sequential(\n",
            "      (0): Linear(in_features=200, out_features=16384, bias=False)\n",
            "      (1): BatchNorm1d(16384, eps=1e-05, momentum=0.1, affine=True, track_running_stats=True)\n",
            "      (2): GLU()\n",
            "    )\n",
            "    (upsample1): Sequential(\n",
            "      (0): Upsample(scale_factor=2.0, mode=nearest)\n",
            "      (1): Conv2d(512, 512, kernel_size=(3, 3), stride=(1, 1), padding=(1, 1), bias=False)\n",
            "      (2): BatchNorm2d(512, eps=1e-05, momentum=0.1, affine=True, track_running_stats=True)\n",
            "      (3): GLU()\n",
            "    )\n",
            "    (upsample2): Sequential(\n",
            "      (0): Upsample(scale_factor=2.0, mode=nearest)\n",
            "      (1): Conv2d(256, 256, kernel_size=(3, 3), stride=(1, 1), padding=(1, 1), bias=False)\n",
            "      (2): BatchNorm2d(256, eps=1e-05, momentum=0.1, affine=True, track_running_stats=True)\n",
            "      (3): GLU()\n",
            "    )\n",
            "    (upsample3): Sequential(\n",
            "      (0): Upsample(scale_factor=2.0, mode=nearest)\n",
            "      (1): Conv2d(128, 128, kernel_size=(3, 3), stride=(1, 1), padding=(1, 1), bias=False)\n",
            "      (2): BatchNorm2d(128, eps=1e-05, momentum=0.1, affine=True, track_running_stats=True)\n",
            "      (3): GLU()\n",
            "    )\n",
            "    (upsample4): Sequential(\n",
            "      (0): Upsample(scale_factor=2.0, mode=nearest)\n",
            "      (1): Conv2d(64, 64, kernel_size=(3, 3), stride=(1, 1), padding=(1, 1), bias=False)\n",
            "      (2): BatchNorm2d(64, eps=1e-05, momentum=0.1, affine=True, track_running_stats=True)\n",
            "      (3): GLU()\n",
            "    )\n",
            "  )\n",
            "  (img_net1): GET_IMAGE_G(\n",
            "    (img): Sequential(\n",
            "      (0): Conv2d(32, 3, kernel_size=(3, 3), stride=(1, 1), padding=(1, 1), bias=False)\n",
            "      (1): Tanh()\n",
            "    )\n",
            "  )\n",
            "  (h_net2): NEXT_STAGE_G(\n",
            "    (att): GlobalAttentionGeneral(\n",
            "      (conv_context): Conv2d(256, 32, kernel_size=(1, 1), stride=(1, 1), bias=False)\n",
            "      (sm): Softmax(dim=None)\n",
            "      (conv_sentence_vis): Conv2d(32, 32, kernel_size=(1, 1), stride=(1, 1), bias=False)\n",
            "      (linear): Linear(in_features=100, out_features=32, bias=True)\n",
            "    )\n",
            "    (residual): Sequential(\n",
            "      (0): ResBlock(\n",
            "        (block): Sequential(\n",
            "          (0): Conv2d(64, 128, kernel_size=(3, 3), stride=(1, 1), padding=(1, 1), bias=False)\n",
            "          (1): BatchNorm2d(128, eps=1e-05, momentum=0.1, affine=True, track_running_stats=True)\n",
            "          (2): GLU()\n",
            "          (3): Conv2d(64, 64, kernel_size=(3, 3), stride=(1, 1), padding=(1, 1), bias=False)\n",
            "          (4): BatchNorm2d(64, eps=1e-05, momentum=0.1, affine=True, track_running_stats=True)\n",
            "        )\n",
            "      )\n",
            "      (1): ResBlock(\n",
            "        (block): Sequential(\n",
            "          (0): Conv2d(64, 128, kernel_size=(3, 3), stride=(1, 1), padding=(1, 1), bias=False)\n",
            "          (1): BatchNorm2d(128, eps=1e-05, momentum=0.1, affine=True, track_running_stats=True)\n",
            "          (2): GLU()\n",
            "          (3): Conv2d(64, 64, kernel_size=(3, 3), stride=(1, 1), padding=(1, 1), bias=False)\n",
            "          (4): BatchNorm2d(64, eps=1e-05, momentum=0.1, affine=True, track_running_stats=True)\n",
            "        )\n",
            "      )\n",
            "    )\n",
            "    (upsample): Sequential(\n",
            "      (0): Upsample(scale_factor=2.0, mode=nearest)\n",
            "      (1): Conv2d(64, 64, kernel_size=(3, 3), stride=(1, 1), padding=(1, 1), bias=False)\n",
            "      (2): BatchNorm2d(64, eps=1e-05, momentum=0.1, affine=True, track_running_stats=True)\n",
            "      (3): GLU()\n",
            "    )\n",
            "    (conv): Conv2d(96, 64, kernel_size=(1, 1), stride=(1, 1), bias=False)\n",
            "  )\n",
            "  (img_net2): GET_IMAGE_G(\n",
            "    (img): Sequential(\n",
            "      (0): Conv2d(32, 3, kernel_size=(3, 3), stride=(1, 1), padding=(1, 1), bias=False)\n",
            "      (1): Tanh()\n",
            "    )\n",
            "  )\n",
            "  (h_net3): NEXT_STAGE_G(\n",
            "    (att): GlobalAttentionGeneral(\n",
            "      (conv_context): Conv2d(256, 32, kernel_size=(1, 1), stride=(1, 1), bias=False)\n",
            "      (sm): Softmax(dim=None)\n",
            "      (conv_sentence_vis): Conv2d(32, 32, kernel_size=(1, 1), stride=(1, 1), bias=False)\n",
            "      (linear): Linear(in_features=100, out_features=32, bias=True)\n",
            "    )\n",
            "    (residual): Sequential(\n",
            "      (0): ResBlock(\n",
            "        (block): Sequential(\n",
            "          (0): Conv2d(64, 128, kernel_size=(3, 3), stride=(1, 1), padding=(1, 1), bias=False)\n",
            "          (1): BatchNorm2d(128, eps=1e-05, momentum=0.1, affine=True, track_running_stats=True)\n",
            "          (2): GLU()\n",
            "          (3): Conv2d(64, 64, kernel_size=(3, 3), stride=(1, 1), padding=(1, 1), bias=False)\n",
            "          (4): BatchNorm2d(64, eps=1e-05, momentum=0.1, affine=True, track_running_stats=True)\n",
            "        )\n",
            "      )\n",
            "      (1): ResBlock(\n",
            "        (block): Sequential(\n",
            "          (0): Conv2d(64, 128, kernel_size=(3, 3), stride=(1, 1), padding=(1, 1), bias=False)\n",
            "          (1): BatchNorm2d(128, eps=1e-05, momentum=0.1, affine=True, track_running_stats=True)\n",
            "          (2): GLU()\n",
            "          (3): Conv2d(64, 64, kernel_size=(3, 3), stride=(1, 1), padding=(1, 1), bias=False)\n",
            "          (4): BatchNorm2d(64, eps=1e-05, momentum=0.1, affine=True, track_running_stats=True)\n",
            "        )\n",
            "      )\n",
            "    )\n",
            "    (upsample): Sequential(\n",
            "      (0): Upsample(scale_factor=2.0, mode=nearest)\n",
            "      (1): Conv2d(64, 64, kernel_size=(3, 3), stride=(1, 1), padding=(1, 1), bias=False)\n",
            "      (2): BatchNorm2d(64, eps=1e-05, momentum=0.1, affine=True, track_running_stats=True)\n",
            "      (3): GLU()\n",
            "    )\n",
            "    (conv): Conv2d(96, 64, kernel_size=(1, 1), stride=(1, 1), bias=False)\n",
            "  )\n",
            "  (img_net3): GET_IMAGE_G(\n",
            "    (img): Sequential(\n",
            "      (0): Conv2d(32, 3, kernel_size=(3, 3), stride=(1, 1), padding=(1, 1), bias=False)\n",
            "      (1): Tanh()\n",
            "    )\n",
            "  )\n",
            ")\n",
            "--------------state-dict---------------------\n",
            "Load G from:  ../models/netG_epoch_600.pth\n",
            "!!!!!!!!!!!!!!!!!!!!!!!!!!!!!!!!!!!!!!!!!!!!!!!!!!!!!!!!!!!!!!!!!!!!!!!!\n",
            "save_dir: ../models/netG_epoch_600/valid\n",
            "step:  0\n",
            "/usr/local/lib/python3.6/dist-packages/torch/nn/functional.py:1569: UserWarning: nn.functional.sigmoid is deprecated. Use torch.sigmoid instead.\n",
            "  warnings.warn(\"nn.functional.sigmoid is deprecated. Use torch.sigmoid instead.\")\n",
            "/content/AttnGAN/code/GlobalAttention.py:115: UserWarning: Implicit dimension choice for softmax has been deprecated. Change the call to include dim=X as an argument.\n",
            "  attn = self.sm(attn)  # Eq. (2)\n",
            "/content/AttnGAN/code/GlobalAttention.py:134: UserWarning: Implicit dimension choice for softmax has been deprecated. Change the call to include dim=X as an argument.\n",
            "  sent_att                = nn.Softmax()(sentence_vs)  # batch x idf x ih x iw\n",
            "Make a new folder:  ../models/netG_epoch_600/valid/single/114.Black_throated_Sparrow\n",
            "Make a new folder:  ../models/netG_epoch_600/valid/single/163.Cape_May_Warbler\n",
            "Make a new folder:  ../models/netG_epoch_600/valid/single/147.Least_Tern\n",
            "Make a new folder:  ../models/netG_epoch_600/valid/single/197.Marsh_Wren\n",
            "Make a new folder:  ../models/netG_epoch_600/valid/single/187.American_Three_toed_Woodpecker\n",
            "Make a new folder:  ../models/netG_epoch_600/valid/single/009.Brewer_Blackbird\n",
            "Make a new folder:  ../models/netG_epoch_600/valid/single/023.Brandt_Cormorant\n",
            "Make a new folder:  ../models/netG_epoch_600/valid/single/130.Tree_Sparrow\n",
            "Make a new folder:  ../models/netG_epoch_600/valid/single/038.Great_Crested_Flycatcher\n",
            "Make a new folder:  ../models/netG_epoch_600/valid/single/096.Hooded_Oriole\n",
            "Make a new folder:  ../models/netG_epoch_600/valid/single/091.Mockingbird\n",
            "Make a new folder:  ../models/netG_epoch_600/valid/single/084.Red_legged_Kittiwake\n",
            "Make a new folder:  ../models/netG_epoch_600/valid/single/103.Sayornis\n",
            "Make a new folder:  ../models/netG_epoch_600/valid/single/102.Western_Wood_Pewee\n",
            "Make a new folder:  ../models/netG_epoch_600/valid/single/101.White_Pelican\n",
            "Make a new folder:  ../models/netG_epoch_600/valid/single/037.Acadian_Flycatcher\n",
            "Make a new folder:  ../models/netG_epoch_600/valid/single/086.Pacific_Loon\n",
            "Make a new folder:  ../models/netG_epoch_600/valid/single/031.Black_billed_Cuckoo\n",
            "Make a new folder:  ../models/netG_epoch_600/valid/single/185.Bohemian_Waxwing\n",
            "Make a new folder:  ../models/netG_epoch_600/valid/single/121.Grasshopper_Sparrow\n",
            "Make a new folder:  ../models/netG_epoch_600/valid/single/072.Pomarine_Jaeger\n",
            "Make a new folder:  ../models/netG_epoch_600/valid/single/033.Yellow_billed_Cuckoo\n",
            "Make a new folder:  ../models/netG_epoch_600/valid/single/014.Indigo_Bunting\n",
            "Make a new folder:  ../models/netG_epoch_600/valid/single/083.White_breasted_Kingfisher\n",
            "Make a new folder:  ../models/netG_epoch_600/valid/single/119.Field_Sparrow\n",
            "Make a new folder:  ../models/netG_epoch_600/valid/single/186.Cedar_Waxwing\n",
            "Make a new folder:  ../models/netG_epoch_600/valid/single/066.Western_Gull\n",
            "Make a new folder:  ../models/netG_epoch_600/valid/single/004.Groove_billed_Ani\n",
            "Make a new folder:  ../models/netG_epoch_600/valid/single/053.Western_Grebe\n",
            "Make a new folder:  ../models/netG_epoch_600/valid/single/165.Chestnut_sided_Warbler\n",
            "Make a new folder:  ../models/netG_epoch_600/valid/single/034.Gray_crowned_Rosy_Finch\n",
            "Make a new folder:  ../models/netG_epoch_600/valid/single/135.Bank_Swallow\n",
            "Make a new folder:  ../models/netG_epoch_600/valid/single/036.Northern_Flicker\n",
            "Make a new folder:  ../models/netG_epoch_600/valid/single/001.Black_footed_Albatross\n",
            "Make a new folder:  ../models/netG_epoch_600/valid/single/183.Northern_Waterthrush\n",
            "Make a new folder:  ../models/netG_epoch_600/valid/single/166.Golden_winged_Warbler\n",
            "Make a new folder:  ../models/netG_epoch_600/valid/single/095.Baltimore_Oriole\n",
            "Make a new folder:  ../models/netG_epoch_600/valid/single/112.Great_Grey_Shrike\n",
            "Make a new folder:  ../models/netG_epoch_600/valid/single/006.Least_Auklet\n",
            "Make a new folder:  ../models/netG_epoch_600/valid/single/051.Horned_Grebe\n",
            "Make a new folder:  ../models/netG_epoch_600/valid/single/079.Belted_Kingfisher\n",
            "Make a new folder:  ../models/netG_epoch_600/valid/single/138.Tree_Swallow\n",
            "Make a new folder:  ../models/netG_epoch_600/valid/single/043.Yellow_bellied_Flycatcher\n",
            "Make a new folder:  ../models/netG_epoch_600/valid/single/029.American_Crow\n",
            "Make a new folder:  ../models/netG_epoch_600/valid/single/049.Boat_tailed_Grackle\n",
            "Make a new folder:  ../models/netG_epoch_600/valid/single/180.Wilson_Warbler\n",
            "Make a new folder:  ../models/netG_epoch_600/valid/single/098.Scott_Oriole\n",
            "Make a new folder:  ../models/netG_epoch_600/valid/single/035.Purple_Finch\n",
            "Make a new folder:  ../models/netG_epoch_600/valid/single/008.Rhinoceros_Auklet\n",
            "Make a new folder:  ../models/netG_epoch_600/valid/single/156.White_eyed_Vireo\n",
            "Total time for training: 108.0735936164856\n"
          ],
          "name": "stdout"
        }
      ]
    },
    {
      "cell_type": "markdown",
      "metadata": {
        "id": "aPs_qjtGwTuU",
        "colab_type": "text"
      },
      "source": [
        "### Zip /content/AttnGAN/models/netG_epoch_600"
      ]
    },
    {
      "cell_type": "code",
      "metadata": {
        "id": "om7wrmbLb7Rh",
        "colab_type": "code",
        "colab": {}
      },
      "source": [
        "os.chdir('/content/AttnGAN/models')\n",
        "!zip -r B_val_true.zip netG_epoch_600"
      ],
      "execution_count": null,
      "outputs": []
    },
    {
      "cell_type": "code",
      "metadata": {
        "id": "y_ZRssu43FTT",
        "colab_type": "code",
        "colab": {}
      },
      "source": [
        "!cp '/content/AttnGAN/models/B_val_true.zip' '/content/drive/My Drive/B_val_true_modified/'"
      ],
      "execution_count": 36,
      "outputs": []
    },
    {
      "cell_type": "code",
      "metadata": {
        "id": "GkOLhl0S4Kp0",
        "colab_type": "code",
        "colab": {}
      },
      "source": [
        "!cp -r '/content/AttnGAN/models/netG_epoch_600' '/content/drive/My Drive/B_val_true_modified/'"
      ],
      "execution_count": 37,
      "outputs": []
    },
    {
      "cell_type": "code",
      "metadata": {
        "id": "8K1dc1YsBFnR",
        "colab_type": "code",
        "colab": {}
      },
      "source": [
        "!cp -r '/content/AttnGAN/models/netG_epoch_600/valid/single/' '/content/'"
      ],
      "execution_count": 38,
      "outputs": []
    },
    {
      "cell_type": "markdown",
      "metadata": {
        "id": "JrJvfa8TAw22",
        "colab_type": "text"
      },
      "source": [
        "# Validate"
      ]
    },
    {
      "cell_type": "code",
      "metadata": {
        "id": "jGFn9KsM4e3i",
        "colab_type": "code",
        "colab": {}
      },
      "source": [
        "import os\n",
        "os.chdir('/content')"
      ],
      "execution_count": 39,
      "outputs": []
    },
    {
      "cell_type": "code",
      "metadata": {
        "id": "ojRtoHwdBMdn",
        "colab_type": "code",
        "colab": {}
      },
      "source": [
        "os.chdir('/content')\n",
        "!git clone https://github.com/hanzhanggit/StackGAN-inception-model.git"
      ],
      "execution_count": null,
      "outputs": []
    },
    {
      "cell_type": "code",
      "metadata": {
        "id": "kQaOR8S8BOqT",
        "colab_type": "code",
        "colab": {
          "base_uri": "https://localhost:8080/",
          "height": 437
        },
        "outputId": "36662cef-c823-4f41-fc52-7d2f314cd611"
      },
      "source": [
        "os.chdir('/content/StackGAN-inception-model/')\n",
        "!wget --load-cookies /tmp/cookies.txt \"https://docs.google.com/uc?export=download&confirm=$(wget --quiet --save-cookies /tmp/cookies.txt --keep-session-cookies --no-check-certificate 'https://docs.google.com/uc?export=download&id=0B3y_msrWZaXLMzNMNWhWdW0zVWs' -O- | sed -rn 's/.*confirm=([0-9A-Za-z_]+).*/\\1\\n/p')&id=0B3y_msrWZaXLMzNMNWhWdW0zVWs\" -O inception_finetuned_models.zip && rm -rf /tmp/cookies.txt\n",
        "!unzip -q inception_finetuned_models.zip\n",
        "!rm inception_finetuned_models.zip\n",
        "!rm README.md\n",
        "!rm -r __MACOSX/"
      ],
      "execution_count": 41,
      "outputs": [
        {
          "output_type": "stream",
          "text": [
            "--2020-06-29 21:39:23--  https://docs.google.com/uc?export=download&confirm=XmYe&id=0B3y_msrWZaXLMzNMNWhWdW0zVWs\n",
            "Resolving docs.google.com (docs.google.com)... 74.125.24.102, 74.125.24.138, 74.125.24.113, ...\n",
            "Connecting to docs.google.com (docs.google.com)|74.125.24.102|:443... connected.\n",
            "HTTP request sent, awaiting response... 302 Moved Temporarily\n",
            "Location: https://doc-04-00-docs.googleusercontent.com/docs/securesc/j829dj7cu1h7jnlvq77jt656m6b15ilg/ini0717ieof3caicctemkbc9lida9v4s/1593466725000/16427414401649018968/11157452884633866970Z/0B3y_msrWZaXLMzNMNWhWdW0zVWs?e=download [following]\n",
            "--2020-06-29 21:39:23--  https://doc-04-00-docs.googleusercontent.com/docs/securesc/j829dj7cu1h7jnlvq77jt656m6b15ilg/ini0717ieof3caicctemkbc9lida9v4s/1593466725000/16427414401649018968/11157452884633866970Z/0B3y_msrWZaXLMzNMNWhWdW0zVWs?e=download\n",
            "Resolving doc-04-00-docs.googleusercontent.com (doc-04-00-docs.googleusercontent.com)... 172.217.194.132, 2404:6800:4003:c04::84\n",
            "Connecting to doc-04-00-docs.googleusercontent.com (doc-04-00-docs.googleusercontent.com)|172.217.194.132|:443... connected.\n",
            "HTTP request sent, awaiting response... 302 Found\n",
            "Location: https://docs.google.com/nonceSigner?nonce=t9vvsa9qbas38&continue=https://doc-04-00-docs.googleusercontent.com/docs/securesc/j829dj7cu1h7jnlvq77jt656m6b15ilg/ini0717ieof3caicctemkbc9lida9v4s/1593466725000/16427414401649018968/11157452884633866970Z/0B3y_msrWZaXLMzNMNWhWdW0zVWs?e%3Ddownload&hash=ogfioncdt6mb5oa9eo066ntj2j6u30j3 [following]\n",
            "--2020-06-29 21:39:23--  https://docs.google.com/nonceSigner?nonce=t9vvsa9qbas38&continue=https://doc-04-00-docs.googleusercontent.com/docs/securesc/j829dj7cu1h7jnlvq77jt656m6b15ilg/ini0717ieof3caicctemkbc9lida9v4s/1593466725000/16427414401649018968/11157452884633866970Z/0B3y_msrWZaXLMzNMNWhWdW0zVWs?e%3Ddownload&hash=ogfioncdt6mb5oa9eo066ntj2j6u30j3\n",
            "Connecting to docs.google.com (docs.google.com)|74.125.24.102|:443... connected.\n",
            "HTTP request sent, awaiting response... 302 Found\n",
            "Location: https://doc-04-00-docs.googleusercontent.com/docs/securesc/j829dj7cu1h7jnlvq77jt656m6b15ilg/ini0717ieof3caicctemkbc9lida9v4s/1593466725000/16427414401649018968/11157452884633866970Z/0B3y_msrWZaXLMzNMNWhWdW0zVWs?e=download&nonce=t9vvsa9qbas38&user=11157452884633866970Z&hash=fjnjvhrm740ceh10ab3n95cqfajn5ima [following]\n",
            "--2020-06-29 21:39:23--  https://doc-04-00-docs.googleusercontent.com/docs/securesc/j829dj7cu1h7jnlvq77jt656m6b15ilg/ini0717ieof3caicctemkbc9lida9v4s/1593466725000/16427414401649018968/11157452884633866970Z/0B3y_msrWZaXLMzNMNWhWdW0zVWs?e=download&nonce=t9vvsa9qbas38&user=11157452884633866970Z&hash=fjnjvhrm740ceh10ab3n95cqfajn5ima\n",
            "Connecting to doc-04-00-docs.googleusercontent.com (doc-04-00-docs.googleusercontent.com)|172.217.194.132|:443... connected.\n",
            "HTTP request sent, awaiting response... 200 OK\n",
            "Length: unspecified [application/zip]\n",
            "Saving to: ‘inception_finetuned_models.zip’\n",
            "\n",
            "inception_finetuned     [ <=>                ] 689.93M  46.2MB/s    in 14s     \n",
            "\n",
            "2020-06-29 21:39:38 (50.3 MB/s) - ‘inception_finetuned_models.zip’ saved [723448974]\n",
            "\n"
          ],
          "name": "stdout"
        }
      ]
    },
    {
      "cell_type": "code",
      "metadata": {
        "id": "-8SSBjXrBStG",
        "colab_type": "code",
        "colab": {
          "base_uri": "https://localhost:8080/",
          "height": 253
        },
        "outputId": "48af7704-9404-4268-9f98-7e3abe99d571"
      },
      "source": [
        "!pip install scipy==1.1.0"
      ],
      "execution_count": 42,
      "outputs": [
        {
          "output_type": "stream",
          "text": [
            "Collecting scipy==1.1.0\n",
            "\u001b[?25l  Downloading https://files.pythonhosted.org/packages/a8/0b/f163da98d3a01b3e0ef1cab8dd2123c34aee2bafbb1c5bffa354cc8a1730/scipy-1.1.0-cp36-cp36m-manylinux1_x86_64.whl (31.2MB)\n",
            "\u001b[K     |████████████████████████████████| 31.2MB 103kB/s \n",
            "\u001b[?25hRequirement already satisfied: numpy>=1.8.2 in /usr/local/lib/python3.6/dist-packages (from scipy==1.1.0) (1.18.5)\n",
            "\u001b[31mERROR: umap-learn 0.4.4 has requirement scipy>=1.3.1, but you'll have scipy 1.1.0 which is incompatible.\u001b[0m\n",
            "\u001b[31mERROR: tensorflow 2.2.0 has requirement scipy==1.4.1; python_version >= \"3\", but you'll have scipy 1.1.0 which is incompatible.\u001b[0m\n",
            "\u001b[31mERROR: plotnine 0.6.0 has requirement scipy>=1.2.0, but you'll have scipy 1.1.0 which is incompatible.\u001b[0m\n",
            "\u001b[31mERROR: albumentations 0.1.12 has requirement imgaug<0.2.7,>=0.2.5, but you'll have imgaug 0.2.9 which is incompatible.\u001b[0m\n",
            "Installing collected packages: scipy\n",
            "  Found existing installation: scipy 1.4.1\n",
            "    Uninstalling scipy-1.4.1:\n",
            "      Successfully uninstalled scipy-1.4.1\n",
            "Successfully installed scipy-1.1.0\n"
          ],
          "name": "stdout"
        }
      ]
    },
    {
      "cell_type": "markdown",
      "metadata": {
        "id": "8CjceAnWBah_",
        "colab_type": "text"
      },
      "source": [
        "# ============================================================"
      ]
    },
    {
      "cell_type": "code",
      "metadata": {
        "id": "t8c7gFHiBcDg",
        "colab_type": "code",
        "colab": {}
      },
      "source": [
        "os.chdir('/content')\n",
        "!rm -r Validate-CUB\n",
        "!git clone https://github.com/ammarnasr/Validate-CUB.git"
      ],
      "execution_count": null,
      "outputs": []
    },
    {
      "cell_type": "code",
      "metadata": {
        "id": "5QIYu4aZBkV2",
        "colab_type": "code",
        "colab": {}
      },
      "source": [
        "!mv /content/Validate-CUB/code/inception_score.py /content/StackGAN-inception-model/"
      ],
      "execution_count": 44,
      "outputs": []
    },
    {
      "cell_type": "code",
      "metadata": {
        "id": "-yTJIHugB1Q2",
        "colab_type": "code",
        "colab": {
          "base_uri": "https://localhost:8080/",
          "height": 1000
        },
        "outputId": "24cb9076-861c-4934-9ae6-bb78b17f62f9"
      },
      "source": [
        "os.chdir('/content/StackGAN-inception-model/')\n",
        "%tensorflow_version 1.x\n",
        "!python inception_score.py --image_folder '/content/single/'"
      ],
      "execution_count": null,
      "outputs": [
        {
          "output_type": "stream",
          "text": [
            "TensorFlow 1.x selected.\n",
            "/content/single/\n",
            "WARNING:tensorflow:From inception_score.py:243: The name tf.app.run is deprecated. Please use tf.compat.v1.app.run instead.\n",
            "\n",
            "WARNING:tensorflow:From inception_score.py:206: The name tf.ConfigProto is deprecated. Please use tf.compat.v1.ConfigProto instead.\n",
            "\n",
            "W0629 21:42:45.225183 140234556102528 module_wrapper.py:139] From inception_score.py:206: The name tf.ConfigProto is deprecated. Please use tf.compat.v1.ConfigProto instead.\n",
            "\n",
            "WARNING:tensorflow:From inception_score.py:208: The name tf.Session is deprecated. Please use tf.compat.v1.Session instead.\n",
            "\n",
            "W0629 21:42:45.225460 140234556102528 module_wrapper.py:139] From inception_score.py:208: The name tf.Session is deprecated. Please use tf.compat.v1.Session instead.\n",
            "\n",
            "2020-06-29 21:42:45.225834: I tensorflow/core/platform/cpu_feature_guard.cc:142] Your CPU supports instructions that this TensorFlow binary was not compiled to use: AVX512F\n",
            "2020-06-29 21:42:45.246180: I tensorflow/core/platform/profile_utils/cpu_utils.cc:94] CPU Frequency: 2000125000 Hz\n",
            "2020-06-29 21:42:45.246589: I tensorflow/compiler/xla/service/service.cc:168] XLA service 0x1abf480 initialized for platform Host (this does not guarantee that XLA will be used). Devices:\n",
            "2020-06-29 21:42:45.246625: I tensorflow/compiler/xla/service/service.cc:176]   StreamExecutor device (0): Host, Default Version\n",
            "2020-06-29 21:42:45.277972: I tensorflow/stream_executor/platform/default/dso_loader.cc:44] Successfully opened dynamic library libcuda.so.1\n",
            "2020-06-29 21:42:45.450655: I tensorflow/stream_executor/cuda/cuda_gpu_executor.cc:983] successful NUMA node read from SysFS had negative value (-1), but there must be at least one NUMA node, so returning NUMA node zero\n",
            "2020-06-29 21:42:45.451312: I tensorflow/compiler/xla/service/service.cc:168] XLA service 0x57c8700 initialized for platform CUDA (this does not guarantee that XLA will be used). Devices:\n",
            "2020-06-29 21:42:45.451347: I tensorflow/compiler/xla/service/service.cc:176]   StreamExecutor device (0): Tesla T4, Compute Capability 7.5\n",
            "2020-06-29 21:42:45.451640: I tensorflow/stream_executor/cuda/cuda_gpu_executor.cc:983] successful NUMA node read from SysFS had negative value (-1), but there must be at least one NUMA node, so returning NUMA node zero\n",
            "2020-06-29 21:42:45.452195: I tensorflow/core/common_runtime/gpu/gpu_device.cc:1639] Found device 0 with properties: \n",
            "name: Tesla T4 major: 7 minor: 5 memoryClockRate(GHz): 1.59\n",
            "pciBusID: 0000:00:04.0\n",
            "2020-06-29 21:42:45.452543: I tensorflow/stream_executor/platform/default/dso_loader.cc:44] Successfully opened dynamic library libcudart.so.10.1\n",
            "2020-06-29 21:42:45.698034: I tensorflow/stream_executor/platform/default/dso_loader.cc:44] Successfully opened dynamic library libcublas.so.10\n",
            "2020-06-29 21:42:45.821310: I tensorflow/stream_executor/platform/default/dso_loader.cc:44] Successfully opened dynamic library libcufft.so.10\n",
            "2020-06-29 21:42:45.840729: I tensorflow/stream_executor/platform/default/dso_loader.cc:44] Successfully opened dynamic library libcurand.so.10\n",
            "2020-06-29 21:42:46.114940: I tensorflow/stream_executor/platform/default/dso_loader.cc:44] Successfully opened dynamic library libcusolver.so.10\n",
            "2020-06-29 21:42:46.132505: I tensorflow/stream_executor/platform/default/dso_loader.cc:44] Successfully opened dynamic library libcusparse.so.10\n",
            "2020-06-29 21:42:46.639526: I tensorflow/stream_executor/platform/default/dso_loader.cc:44] Successfully opened dynamic library libcudnn.so.7\n",
            "2020-06-29 21:42:46.639732: I tensorflow/stream_executor/cuda/cuda_gpu_executor.cc:983] successful NUMA node read from SysFS had negative value (-1), but there must be at least one NUMA node, so returning NUMA node zero\n",
            "2020-06-29 21:42:46.640420: I tensorflow/stream_executor/cuda/cuda_gpu_executor.cc:983] successful NUMA node read from SysFS had negative value (-1), but there must be at least one NUMA node, so returning NUMA node zero\n",
            "2020-06-29 21:42:46.640896: I tensorflow/core/common_runtime/gpu/gpu_device.cc:1767] Adding visible gpu devices: 0\n",
            "2020-06-29 21:42:46.642850: I tensorflow/stream_executor/platform/default/dso_loader.cc:44] Successfully opened dynamic library libcudart.so.10.1\n",
            "2020-06-29 21:42:46.647494: I tensorflow/core/common_runtime/gpu/gpu_device.cc:1180] Device interconnect StreamExecutor with strength 1 edge matrix:\n",
            "2020-06-29 21:42:46.647523: I tensorflow/core/common_runtime/gpu/gpu_device.cc:1186]      0 \n",
            "2020-06-29 21:42:46.647537: I tensorflow/core/common_runtime/gpu/gpu_device.cc:1199] 0:   N \n",
            "2020-06-29 21:42:46.648614: I tensorflow/stream_executor/cuda/cuda_gpu_executor.cc:983] successful NUMA node read from SysFS had negative value (-1), but there must be at least one NUMA node, so returning NUMA node zero\n",
            "2020-06-29 21:42:46.649166: I tensorflow/stream_executor/cuda/cuda_gpu_executor.cc:983] successful NUMA node read from SysFS had negative value (-1), but there must be at least one NUMA node, so returning NUMA node zero\n",
            "2020-06-29 21:42:46.649731: I tensorflow/core/common_runtime/gpu/gpu_device.cc:1325] Created TensorFlow device (/job:localhost/replica:0/task:0/device:GPU:0 with 14221 MB memory) -> physical GPU (device: 0, name: Tesla T4, pci bus id: 0000:00:04.0, compute capability: 7.5)\n",
            "WARNING:tensorflow:From inception_score.py:216: The name tf.placeholder is deprecated. Please use tf.compat.v1.placeholder instead.\n",
            "\n",
            "W0629 21:42:46.650853 140234556102528 module_wrapper.py:139] From inception_score.py:216: The name tf.placeholder is deprecated. Please use tf.compat.v1.placeholder instead.\n",
            "\n",
            "WARNING:tensorflow:From /content/StackGAN-inception-model/inception/slim/ops.py:213: The name tf.variable_scope is deprecated. Please use tf.compat.v1.variable_scope instead.\n",
            "\n",
            "W0629 21:42:46.654618 140234556102528 module_wrapper.py:139] From /content/StackGAN-inception-model/inception/slim/ops.py:213: The name tf.variable_scope is deprecated. Please use tf.compat.v1.variable_scope instead.\n",
            "\n",
            "WARNING:tensorflow:From /content/StackGAN-inception-model/inception/slim/variables.py:279: The name tf.GraphKeys is deprecated. Please use tf.compat.v1.GraphKeys instead.\n",
            "\n",
            "W0629 21:42:46.655186 140234556102528 module_wrapper.py:139] From /content/StackGAN-inception-model/inception/slim/variables.py:279: The name tf.GraphKeys is deprecated. Please use tf.compat.v1.GraphKeys instead.\n",
            "\n",
            "WARNING:tensorflow:From /content/StackGAN-inception-model/inception/slim/variables.py:287: The name tf.get_variable is deprecated. Please use tf.compat.v1.get_variable instead.\n",
            "\n",
            "W0629 21:42:46.655852 140234556102528 module_wrapper.py:139] From /content/StackGAN-inception-model/inception/slim/variables.py:287: The name tf.get_variable is deprecated. Please use tf.compat.v1.get_variable instead.\n",
            "\n",
            "WARNING:tensorflow:From /content/StackGAN-inception-model/inception/slim/ops.py:367: The name tf.nn.max_pool is deprecated. Please use tf.nn.max_pool2d instead.\n",
            "\n",
            "W0629 21:42:46.732540 140234556102528 module_wrapper.py:139] From /content/StackGAN-inception-model/inception/slim/ops.py:367: The name tf.nn.max_pool is deprecated. Please use tf.nn.max_pool2d instead.\n",
            "\n",
            "WARNING:tensorflow:From /content/StackGAN-inception-model/inception/slim/ops.py:397: The name tf.nn.avg_pool is deprecated. Please use tf.nn.avg_pool2d instead.\n",
            "\n",
            "W0629 21:42:46.960927 140234556102528 module_wrapper.py:139] From /content/StackGAN-inception-model/inception/slim/ops.py:397: The name tf.nn.avg_pool is deprecated. Please use tf.nn.avg_pool2d instead.\n",
            "\n",
            "WARNING:tensorflow:From /content/StackGAN-inception-model/inception/slim/ops.py:314: The name tf.nn.xw_plus_b is deprecated. Please use tf.compat.v1.nn.xw_plus_b instead.\n",
            "\n",
            "W0629 21:42:48.183669 140234556102528 module_wrapper.py:139] From /content/StackGAN-inception-model/inception/slim/ops.py:314: The name tf.nn.xw_plus_b is deprecated. Please use tf.compat.v1.nn.xw_plus_b instead.\n",
            "\n",
            "WARNING:tensorflow:From inception_score.py:233: The name tf.train.Saver is deprecated. Please use tf.compat.v1.train.Saver instead.\n",
            "\n",
            "W0629 21:42:48.695829 140234556102528 module_wrapper.py:139] From inception_score.py:233: The name tf.train.Saver is deprecated. Please use tf.compat.v1.train.Saver instead.\n",
            "\n",
            "INFO:tensorflow:Restoring parameters from ./inception_finetuned_models/birds_valid299/model.ckpt\n",
            "I0629 21:42:48.976005 140234556102528 saver.py:1284] Restoring parameters from ./inception_finetuned_models/birds_valid299/model.ckpt\n",
            "Restore the model from ./inception_finetuned_models/birds_valid299/model.ckpt).\n",
            "/content/single/\n",
            "images 2912 (256, 256, 3)\n",
            "batch : 0  of : 45\n",
            "2020-06-29 21:42:59.110158: W tensorflow/core/framework/cpu_allocator_impl.cc:81] Allocation of 68659968 exceeds 10% of system memory.\n",
            "2020-06-29 21:42:59.786161: I tensorflow/stream_executor/platform/default/dso_loader.cc:44] Successfully opened dynamic library libcublas.so.10\n",
            "2020-06-29 21:43:07.733529: I tensorflow/stream_executor/platform/default/dso_loader.cc:44] Successfully opened dynamic library libcudnn.so.7\n",
            "batch : 1  of : 45\n",
            "batch : 2  of : 45\n",
            "batch : 3  of : 45\n",
            "batch : 4  of : 45\n",
            "batch : 5  of : 45\n",
            "batch : 6  of : 45\n",
            "batch : 7  of : 45\n",
            "batch : 8  of : 45\n",
            "batch : 9  of : 45\n",
            "batch : 10  of : 45\n",
            "batch : 11  of : 45\n",
            "batch : 12  of : 45\n",
            "batch : 13  of : 45\n",
            "batch : 14  of : 45\n",
            "batch : 15  of : 45\n",
            "batch : 16  of : 45\n",
            "batch : 17  of : 45\n",
            "batch : 18  of : 45\n",
            "batch : 19  of : 45\n",
            "batch : 20  of : 45\n",
            "batch : 21  of : 45\n",
            "batch : 22  of : 45\n",
            "batch : 23  of : 45\n",
            "batch : 24  of : 45\n",
            "batch : 25  of : 45\n",
            "batch : 26  of : 45\n",
            "batch : 27  of : 45\n",
            "batch : 28  of : 45\n",
            "batch : 29  of : 45\n",
            "batch : 30  of : 45\n",
            "batch : 31  of : 45\n",
            "batch : 32  of : 45\n",
            "batch : 33  of : 45\n",
            "batch : 34  of : 45\n",
            "batch : 35  of : 45\n"
          ],
          "name": "stdout"
        }
      ]
    },
    {
      "cell_type": "code",
      "metadata": {
        "id": "bINn5c9oCCuX",
        "colab_type": "code",
        "colab": {}
      },
      "source": [
        ""
      ],
      "execution_count": null,
      "outputs": []
    }
  ]
}