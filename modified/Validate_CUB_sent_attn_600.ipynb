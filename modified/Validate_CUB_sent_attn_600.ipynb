{
  "nbformat": 4,
  "nbformat_minor": 0,
  "metadata": {
    "colab": {
      "name": "Validate_CUB_sent_attn_600.ipynb",
      "provenance": [],
      "collapsed_sections": [],
      "toc_visible": true
    },
    "kernelspec": {
      "name": "python3",
      "display_name": "Python 3"
    },
    "accelerator": "GPU"
  },
  "cells": [
    {
      "cell_type": "code",
      "metadata": {
        "id": "zA9csLagcI02",
        "colab_type": "code",
        "colab": {}
      },
      "source": [
        "import os"
      ],
      "execution_count": 1,
      "outputs": []
    },
    {
      "cell_type": "code",
      "metadata": {
        "id": "PolBTuJBb_6H",
        "colab_type": "code",
        "colab": {}
      },
      "source": [
        "os.chdir('/content')\n",
        "!rm -r AttnGAN\n",
        "!git clone https://github.com/taoxugit/AttnGAN.git\n",
        "\n",
        "os.chdir('/content/AttnGAN/data/')\n",
        "!wget --no-check-certificate 'https://docs.google.com/uc?export=download&id=1O_LtUP9sch09QH3s_EBAgLEctBQ5JBSJ' -O birds.zip\n",
        "!unzip -q birds.zip\n",
        "!rm birds.zip\n",
        "!rm -r __MACOSX/\n",
        "\n",
        "os.chdir('/content/AttnGAN/data/birds')\n",
        "!unzip -q text.zip\n",
        "!rm text.zip\n",
        "\n",
        "os.chdir('/content/AttnGAN/data/birds/')\n",
        "!rm -r CUB_200_2011/\n",
        "!rm -r __MACOSX/\n",
        "!wget http://www.vision.caltech.edu/visipedia-data/CUB-200-2011/CUB_200_2011.tgz\n",
        "!tar zxf  CUB_200_2011.tgz\n",
        "!rm CUB_200_2011.tgz\n",
        "\n",
        "os.chdir('/content/AttnGAN/DAMSMencoders/')\n",
        "os.mkdir('bird')\n",
        "\n",
        "os.chdir('/content/AttnGAN/code/')\n",
        "!wget --no-check-certificate 'https://docs.google.com/uc?export=download&id=1Wr3lQajG7m6Bi3rYFTJb6mwE_d8su111' -O Pillow.rar\n",
        "!unrar x  Pillow.rar\n",
        "!rm Pillow.rar"
      ],
      "execution_count": null,
      "outputs": []
    },
    {
      "cell_type": "code",
      "metadata": {
        "id": "8_-RVVeUkKvD",
        "colab_type": "code",
        "colab": {}
      },
      "source": [
        "os.chdir('/content')\n",
        "#Dwonload files config.py, utils.py, datasets.py, pretrain_DAMSM.py\n",
        "!git clone https://github.com/ammarnasr/CUB-Attn-GAN.git\n",
        "\n",
        "# #Move Models text and image encoder to their /content/\n",
        "!mv /content/CUB-Attn-GAN/theModel/text_encoder599.pth /content/\n",
        "!mv /content/CUB-Attn-GAN/theModel/image_encoder599.pth /content/\n",
        "!mv /content/CUB-Attn-GAN/theModel/GAN/sent_attn_600/netG_epoch_600.pth /content/\n",
        "\n",
        "#Remove the Repo\n",
        "!rm -r /content/CUB-Attn-GAN/\n",
        "\n",
        "#Move Models text and image encoder to their /content/\n",
        "!mv /content/text_encoder599.pth /content/AttnGAN/DAMSMencoders/bird/\n",
        "!mv /content/image_encoder599.pth /content/AttnGAN/DAMSMencoders/bird/\n",
        "!mv /content/netG_epoch_600.pth /content/AttnGAN/models/"
      ],
      "execution_count": null,
      "outputs": []
    },
    {
      "cell_type": "markdown",
      "metadata": {
        "id": "1NhlvNfvcihB",
        "colab_type": "text"
      },
      "source": [
        "==================================================================================================================="
      ]
    },
    {
      "cell_type": "code",
      "metadata": {
        "id": "bL5P9M-ecd1m",
        "colab_type": "code",
        "colab": {}
      },
      "source": [
        "os.chdir('/content')\n",
        "!rm -r Validate-CUB\n",
        "!git clone https://github.com/ammarnasr/Validate-CUB.git\n",
        "\n",
        "!mv /content/Validate-CUB/code/utils.py /content/AttnGAN/code/miscc/\n",
        "!mv /content/Validate-CUB/code/config.py /content/AttnGAN/code/miscc/\n",
        "!mv /content/Validate-CUB/code/datasets.py /content/AttnGAN/code/\n",
        "!mv /content/Validate-CUB/code/main.py /content/AttnGAN/code/\n",
        "!mv /content/Validate-CUB/modified/model.py /content/AttnGAN/code/\n",
        "!mv /content/Validate-CUB/modified/GlobalAttention.py /content/AttnGAN/code/\n",
        "!mv /content/Validate-CUB/code/trainer.py /content/AttnGAN/code/\n",
        "!mv /content/Validate-CUB/code/eval_bird.yml /content/AttnGAN/code/cfg/"
      ],
      "execution_count": null,
      "outputs": []
    },
    {
      "cell_type": "code",
      "metadata": {
        "id": "Hyy9vb-Ebkac",
        "colab_type": "code",
        "colab": {}
      },
      "source": [
        "os.chdir('/content/AttnGAN/code')\n",
        "\n",
        "!python main.py --cfg cfg/eval_bird.yml --gpu 0"
      ],
      "execution_count": null,
      "outputs": []
    },
    {
      "cell_type": "markdown",
      "metadata": {
        "id": "aPs_qjtGwTuU",
        "colab_type": "text"
      },
      "source": [
        "### Validate"
      ]
    },
    {
      "cell_type": "code",
      "metadata": {
        "id": "XNa3ScyUURHJ",
        "colab_type": "code",
        "colab": {}
      },
      "source": [
        "!cp -r '/content/AttnGAN/models/netG_epoch_600/valid/single/' '/content/'"
      ],
      "execution_count": 13,
      "outputs": []
    },
    {
      "cell_type": "code",
      "metadata": {
        "id": "pQVYO_9DUH_Z",
        "colab_type": "code",
        "colab": {}
      },
      "source": [
        "os.chdir('/content')\n",
        "!git clone https://github.com/hanzhanggit/StackGAN-inception-model.git\n",
        "\n",
        "os.chdir('/content/StackGAN-inception-model/')\n",
        "!wget --load-cookies /tmp/cookies.txt \"https://docs.google.com/uc?export=download&confirm=$(wget --quiet --save-cookies /tmp/cookies.txt --keep-session-cookies --no-check-certificate 'https://docs.google.com/uc?export=download&id=0B3y_msrWZaXLMzNMNWhWdW0zVWs' -O- | sed -rn 's/.*confirm=([0-9A-Za-z_]+).*/\\1\\n/p')&id=0B3y_msrWZaXLMzNMNWhWdW0zVWs\" -O inception_finetuned_models.zip && rm -rf /tmp/cookies.txt\n",
        "!unzip -q inception_finetuned_models.zip\n",
        "!rm inception_finetuned_models.zip\n",
        "!rm README.md\n",
        "!rm -r __MACOSX/"
      ],
      "execution_count": null,
      "outputs": []
    },
    {
      "cell_type": "code",
      "metadata": {
        "id": "B5uZooHEUol-",
        "colab_type": "code",
        "colab": {}
      },
      "source": [
        "!pip install scipy==1.1.0"
      ],
      "execution_count": null,
      "outputs": []
    },
    {
      "cell_type": "code",
      "metadata": {
        "id": "di_A0Qi4UoWv",
        "colab_type": "code",
        "colab": {}
      },
      "source": [
        "os.chdir('/content')\n",
        "!rm -r Validate-CUB\n",
        "!git clone https://github.com/ammarnasr/Validate-CUB.git\n",
        "!mv /content/Validate-CUB/code/inception_score.py /content/StackGAN-inception-model/"
      ],
      "execution_count": null,
      "outputs": []
    },
    {
      "cell_type": "code",
      "metadata": {
        "id": "nRmBbZYQVBYt",
        "colab_type": "code",
        "colab": {
          "base_uri": "https://localhost:8080/",
          "height": 1000
        },
        "outputId": "71d98e5b-37f5-4838-cd5b-7c820a0aa9be"
      },
      "source": [
        "os.chdir('/content/StackGAN-inception-model/')\n",
        "%tensorflow_version 1.x\n",
        "!python inception_score.py --image_folder '/content/single/'"
      ],
      "execution_count": 18,
      "outputs": [
        {
          "output_type": "stream",
          "text": [
            "TensorFlow 1.x selected.\n",
            "/content/single/\n",
            "WARNING:tensorflow:From inception_score.py:243: The name tf.app.run is deprecated. Please use tf.compat.v1.app.run instead.\n",
            "\n",
            "WARNING:tensorflow:From inception_score.py:206: The name tf.ConfigProto is deprecated. Please use tf.compat.v1.ConfigProto instead.\n",
            "\n",
            "W0629 23:09:02.649727 140298215962496 module_wrapper.py:139] From inception_score.py:206: The name tf.ConfigProto is deprecated. Please use tf.compat.v1.ConfigProto instead.\n",
            "\n",
            "WARNING:tensorflow:From inception_score.py:208: The name tf.Session is deprecated. Please use tf.compat.v1.Session instead.\n",
            "\n",
            "W0629 23:09:02.650006 140298215962496 module_wrapper.py:139] From inception_score.py:208: The name tf.Session is deprecated. Please use tf.compat.v1.Session instead.\n",
            "\n",
            "2020-06-29 23:09:02.650426: I tensorflow/core/platform/cpu_feature_guard.cc:142] Your CPU supports instructions that this TensorFlow binary was not compiled to use: AVX512F\n",
            "2020-06-29 23:09:02.674417: I tensorflow/core/platform/profile_utils/cpu_utils.cc:94] CPU Frequency: 2000175000 Hz\n",
            "2020-06-29 23:09:02.674762: I tensorflow/compiler/xla/service/service.cc:168] XLA service 0x23df480 initialized for platform Host (this does not guarantee that XLA will be used). Devices:\n",
            "2020-06-29 23:09:02.674794: I tensorflow/compiler/xla/service/service.cc:176]   StreamExecutor device (0): Host, Default Version\n",
            "2020-06-29 23:09:02.711435: I tensorflow/stream_executor/platform/default/dso_loader.cc:44] Successfully opened dynamic library libcuda.so.1\n",
            "2020-06-29 23:09:02.844769: I tensorflow/stream_executor/cuda/cuda_gpu_executor.cc:983] successful NUMA node read from SysFS had negative value (-1), but there must be at least one NUMA node, so returning NUMA node zero\n",
            "2020-06-29 23:09:02.845428: I tensorflow/compiler/xla/service/service.cc:168] XLA service 0x60e8e00 initialized for platform CUDA (this does not guarantee that XLA will be used). Devices:\n",
            "2020-06-29 23:09:02.845460: I tensorflow/compiler/xla/service/service.cc:176]   StreamExecutor device (0): Tesla P100-PCIE-16GB, Compute Capability 6.0\n",
            "2020-06-29 23:09:02.845687: I tensorflow/stream_executor/cuda/cuda_gpu_executor.cc:983] successful NUMA node read from SysFS had negative value (-1), but there must be at least one NUMA node, so returning NUMA node zero\n",
            "2020-06-29 23:09:02.846208: I tensorflow/core/common_runtime/gpu/gpu_device.cc:1639] Found device 0 with properties: \n",
            "name: Tesla P100-PCIE-16GB major: 6 minor: 0 memoryClockRate(GHz): 1.3285\n",
            "pciBusID: 0000:00:04.0\n",
            "2020-06-29 23:09:02.846583: I tensorflow/stream_executor/platform/default/dso_loader.cc:44] Successfully opened dynamic library libcudart.so.10.1\n",
            "2020-06-29 23:09:03.102941: I tensorflow/stream_executor/platform/default/dso_loader.cc:44] Successfully opened dynamic library libcublas.so.10\n",
            "2020-06-29 23:09:03.232002: I tensorflow/stream_executor/platform/default/dso_loader.cc:44] Successfully opened dynamic library libcufft.so.10\n",
            "2020-06-29 23:09:03.252226: I tensorflow/stream_executor/platform/default/dso_loader.cc:44] Successfully opened dynamic library libcurand.so.10\n",
            "2020-06-29 23:09:03.514034: I tensorflow/stream_executor/platform/default/dso_loader.cc:44] Successfully opened dynamic library libcusolver.so.10\n",
            "2020-06-29 23:09:03.534672: I tensorflow/stream_executor/platform/default/dso_loader.cc:44] Successfully opened dynamic library libcusparse.so.10\n",
            "2020-06-29 23:09:04.075168: I tensorflow/stream_executor/platform/default/dso_loader.cc:44] Successfully opened dynamic library libcudnn.so.7\n",
            "2020-06-29 23:09:04.075351: I tensorflow/stream_executor/cuda/cuda_gpu_executor.cc:983] successful NUMA node read from SysFS had negative value (-1), but there must be at least one NUMA node, so returning NUMA node zero\n",
            "2020-06-29 23:09:04.076011: I tensorflow/stream_executor/cuda/cuda_gpu_executor.cc:983] successful NUMA node read from SysFS had negative value (-1), but there must be at least one NUMA node, so returning NUMA node zero\n",
            "2020-06-29 23:09:04.076513: I tensorflow/core/common_runtime/gpu/gpu_device.cc:1767] Adding visible gpu devices: 0\n",
            "2020-06-29 23:09:04.080084: I tensorflow/stream_executor/platform/default/dso_loader.cc:44] Successfully opened dynamic library libcudart.so.10.1\n",
            "2020-06-29 23:09:04.086069: I tensorflow/core/common_runtime/gpu/gpu_device.cc:1180] Device interconnect StreamExecutor with strength 1 edge matrix:\n",
            "2020-06-29 23:09:04.086103: I tensorflow/core/common_runtime/gpu/gpu_device.cc:1186]      0 \n",
            "2020-06-29 23:09:04.086114: I tensorflow/core/common_runtime/gpu/gpu_device.cc:1199] 0:   N \n",
            "2020-06-29 23:09:04.087097: I tensorflow/stream_executor/cuda/cuda_gpu_executor.cc:983] successful NUMA node read from SysFS had negative value (-1), but there must be at least one NUMA node, so returning NUMA node zero\n",
            "2020-06-29 23:09:04.087752: I tensorflow/stream_executor/cuda/cuda_gpu_executor.cc:983] successful NUMA node read from SysFS had negative value (-1), but there must be at least one NUMA node, so returning NUMA node zero\n",
            "2020-06-29 23:09:04.088289: I tensorflow/core/common_runtime/gpu/gpu_device.cc:1325] Created TensorFlow device (/job:localhost/replica:0/task:0/device:GPU:0 with 15216 MB memory) -> physical GPU (device: 0, name: Tesla P100-PCIE-16GB, pci bus id: 0000:00:04.0, compute capability: 6.0)\n",
            "WARNING:tensorflow:From inception_score.py:216: The name tf.placeholder is deprecated. Please use tf.compat.v1.placeholder instead.\n",
            "\n",
            "W0629 23:09:04.089460 140298215962496 module_wrapper.py:139] From inception_score.py:216: The name tf.placeholder is deprecated. Please use tf.compat.v1.placeholder instead.\n",
            "\n",
            "WARNING:tensorflow:From /content/StackGAN-inception-model/inception/slim/ops.py:213: The name tf.variable_scope is deprecated. Please use tf.compat.v1.variable_scope instead.\n",
            "\n",
            "W0629 23:09:04.093227 140298215962496 module_wrapper.py:139] From /content/StackGAN-inception-model/inception/slim/ops.py:213: The name tf.variable_scope is deprecated. Please use tf.compat.v1.variable_scope instead.\n",
            "\n",
            "WARNING:tensorflow:From /content/StackGAN-inception-model/inception/slim/variables.py:279: The name tf.GraphKeys is deprecated. Please use tf.compat.v1.GraphKeys instead.\n",
            "\n",
            "W0629 23:09:04.093825 140298215962496 module_wrapper.py:139] From /content/StackGAN-inception-model/inception/slim/variables.py:279: The name tf.GraphKeys is deprecated. Please use tf.compat.v1.GraphKeys instead.\n",
            "\n",
            "WARNING:tensorflow:From /content/StackGAN-inception-model/inception/slim/variables.py:287: The name tf.get_variable is deprecated. Please use tf.compat.v1.get_variable instead.\n",
            "\n",
            "W0629 23:09:04.094234 140298215962496 module_wrapper.py:139] From /content/StackGAN-inception-model/inception/slim/variables.py:287: The name tf.get_variable is deprecated. Please use tf.compat.v1.get_variable instead.\n",
            "\n",
            "WARNING:tensorflow:From /content/StackGAN-inception-model/inception/slim/ops.py:367: The name tf.nn.max_pool is deprecated. Please use tf.nn.max_pool2d instead.\n",
            "\n",
            "W0629 23:09:04.168841 140298215962496 module_wrapper.py:139] From /content/StackGAN-inception-model/inception/slim/ops.py:367: The name tf.nn.max_pool is deprecated. Please use tf.nn.max_pool2d instead.\n",
            "\n",
            "WARNING:tensorflow:From /content/StackGAN-inception-model/inception/slim/ops.py:397: The name tf.nn.avg_pool is deprecated. Please use tf.nn.avg_pool2d instead.\n",
            "\n",
            "W0629 23:09:04.399032 140298215962496 module_wrapper.py:139] From /content/StackGAN-inception-model/inception/slim/ops.py:397: The name tf.nn.avg_pool is deprecated. Please use tf.nn.avg_pool2d instead.\n",
            "\n",
            "WARNING:tensorflow:From /content/StackGAN-inception-model/inception/slim/ops.py:314: The name tf.nn.xw_plus_b is deprecated. Please use tf.compat.v1.nn.xw_plus_b instead.\n",
            "\n",
            "W0629 23:09:05.576133 140298215962496 module_wrapper.py:139] From /content/StackGAN-inception-model/inception/slim/ops.py:314: The name tf.nn.xw_plus_b is deprecated. Please use tf.compat.v1.nn.xw_plus_b instead.\n",
            "\n",
            "WARNING:tensorflow:From inception_score.py:233: The name tf.train.Saver is deprecated. Please use tf.compat.v1.train.Saver instead.\n",
            "\n",
            "W0629 23:09:06.068616 140298215962496 module_wrapper.py:139] From inception_score.py:233: The name tf.train.Saver is deprecated. Please use tf.compat.v1.train.Saver instead.\n",
            "\n",
            "INFO:tensorflow:Restoring parameters from ./inception_finetuned_models/birds_valid299/model.ckpt\n",
            "I0629 23:09:06.331454 140298215962496 saver.py:1284] Restoring parameters from ./inception_finetuned_models/birds_valid299/model.ckpt\n",
            "Restore the model from ./inception_finetuned_models/birds_valid299/model.ckpt).\n",
            "/content/single/\n",
            "images 2912 (256, 256, 3)\n",
            "batch : 0  of : 45\n",
            "2020-06-29 23:09:22.237088: W tensorflow/core/framework/cpu_allocator_impl.cc:81] Allocation of 68659968 exceeds 10% of system memory.\n",
            "2020-06-29 23:09:22.902523: I tensorflow/stream_executor/platform/default/dso_loader.cc:44] Successfully opened dynamic library libcublas.so.10\n",
            "2020-06-29 23:09:24.384763: I tensorflow/stream_executor/platform/default/dso_loader.cc:44] Successfully opened dynamic library libcudnn.so.7\n",
            "batch : 1  of : 45\n",
            "batch : 2  of : 45\n",
            "batch : 3  of : 45\n",
            "batch : 4  of : 45\n",
            "batch : 5  of : 45\n",
            "batch : 6  of : 45\n",
            "batch : 7  of : 45\n",
            "batch : 8  of : 45\n",
            "batch : 9  of : 45\n",
            "batch : 10  of : 45\n",
            "batch : 11  of : 45\n",
            "batch : 12  of : 45\n",
            "batch : 13  of : 45\n",
            "batch : 14  of : 45\n",
            "batch : 15  of : 45\n",
            "batch : 16  of : 45\n",
            "batch : 17  of : 45\n",
            "batch : 18  of : 45\n",
            "batch : 19  of : 45\n",
            "batch : 20  of : 45\n",
            "batch : 21  of : 45\n",
            "batch : 22  of : 45\n",
            "batch : 23  of : 45\n",
            "batch : 24  of : 45\n",
            "batch : 25  of : 45\n",
            "batch : 26  of : 45\n",
            "batch : 27  of : 45\n",
            "batch : 28  of : 45\n",
            "batch : 29  of : 45\n",
            "batch : 30  of : 45\n",
            "batch : 31  of : 45\n",
            "batch : 32  of : 45\n",
            "batch : 33  of : 45\n",
            "batch : 34  of : 45\n",
            "batch : 35  of : 45\n",
            "batch : 36  of : 45\n",
            "batch : 37  of : 45\n",
            "batch : 38  of : 45\n",
            "batch : 39  of : 45\n",
            "batch : 40  of : 45\n",
            "batch : 41  of : 45\n",
            "batch : 42  of : 45\n",
            "batch : 43  of : 45\n",
            "batch : 44  of : 45\n",
            "split : 0  of : 10\n",
            "split : 1  of : 10\n",
            "split : 2  of : 10\n",
            "split : 3  of : 10\n",
            "split : 4  of : 10\n",
            "split : 5  of : 10\n",
            "split : 6  of : 10\n",
            "split : 7  of : 10\n",
            "split : 8  of : 10\n",
            "split : 9  of : 10\n",
            "mean: 4.39 std: 0.09\n",
            "################################################################################\n",
            "Mean Inception Score : 4.386916160583496\n",
            "################################################################################\n"
          ],
          "name": "stdout"
        }
      ]
    },
    {
      "cell_type": "code",
      "metadata": {
        "id": "QyKMer9NVt4f",
        "colab_type": "code",
        "colab": {}
      },
      "source": [
        ""
      ],
      "execution_count": null,
      "outputs": []
    }
  ]
}