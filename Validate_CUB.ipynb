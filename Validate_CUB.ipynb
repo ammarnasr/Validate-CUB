{
  "nbformat": 4,
  "nbformat_minor": 0,
  "metadata": {
    "colab": {
      "name": "Validate_CUB.ipynb",
      "provenance": [],
      "collapsed_sections": [],
      "toc_visible": true
    },
    "kernelspec": {
      "name": "python3",
      "display_name": "Python 3"
    },
    "accelerator": "GPU"
  },
  "cells": [
    {
      "cell_type": "code",
      "metadata": {
        "id": "EnQU7wEOxIfE",
        "colab_type": "code",
        "colab": {}
      },
      "source": [
        "!nvidia-smi #Fri Jun 19 18:08:52 2020   "
      ],
      "execution_count": null,
      "outputs": []
    },
    {
      "cell_type": "code",
      "metadata": {
        "id": "zA9csLagcI02",
        "colab_type": "code",
        "colab": {}
      },
      "source": [
        "import os"
      ],
      "execution_count": 2,
      "outputs": []
    },
    {
      "cell_type": "code",
      "metadata": {
        "id": "PolBTuJBb_6H",
        "colab_type": "code",
        "colab": {}
      },
      "source": [
        "os.chdir('/content')\n",
        "!rm -r AttnGAN\n",
        "!git clone https://github.com/taoxugit/AttnGAN.git"
      ],
      "execution_count": null,
      "outputs": []
    },
    {
      "cell_type": "code",
      "metadata": {
        "id": "DBM_tUR4fbtm",
        "colab_type": "code",
        "colab": {}
      },
      "source": [
        "os.chdir('/content/AttnGAN/data/')\n",
        "!wget --no-check-certificate 'https://docs.google.com/uc?export=download&id=1O_LtUP9sch09QH3s_EBAgLEctBQ5JBSJ' -O birds.zip\n",
        "!unzip -q birds.zip\n",
        "!rm birds.zip\n",
        "!rm -r __MACOSX/"
      ],
      "execution_count": null,
      "outputs": []
    },
    {
      "cell_type": "code",
      "metadata": {
        "id": "9oOwplfXf6aK",
        "colab_type": "code",
        "colab": {}
      },
      "source": [
        "os.chdir('/content/AttnGAN/data/birds')\n",
        "!unzip -q text.zip\n",
        "!rm text.zip"
      ],
      "execution_count": 5,
      "outputs": []
    },
    {
      "cell_type": "code",
      "metadata": {
        "id": "T5ueMbDcgYo2",
        "colab_type": "code",
        "colab": {}
      },
      "source": [
        "os.chdir('/content/AttnGAN/data/birds/')\n",
        "!wget http://www.vision.caltech.edu/visipedia-data/CUB-200-2011/CUB_200_2011.tgz\n",
        "!tar zxf  CUB_200_2011.tgz\n",
        "!rm CUB_200_2011.tgz"
      ],
      "execution_count": null,
      "outputs": []
    },
    {
      "cell_type": "code",
      "metadata": {
        "id": "XaEngHiXsOr3",
        "colab_type": "code",
        "colab": {}
      },
      "source": [
        "os.chdir('/content/AttnGAN/code/')\n",
        "!wget --no-check-certificate 'https://docs.google.com/uc?export=download&id=1Wr3lQajG7m6Bi3rYFTJb6mwE_d8su111' -O Pillow.rar\n",
        "!unrar x  Pillow.rar\n",
        "!rm Pillow.rar"
      ],
      "execution_count": null,
      "outputs": []
    },
    {
      "cell_type": "code",
      "metadata": {
        "id": "kMT2FQDhlEWy",
        "colab_type": "code",
        "colab": {}
      },
      "source": [
        "os.chdir('/content/AttnGAN/DAMSMencoders/')\n",
        "os.mkdir('bird')"
      ],
      "execution_count": 7,
      "outputs": []
    },
    {
      "cell_type": "code",
      "metadata": {
        "id": "8_-RVVeUkKvD",
        "colab_type": "code",
        "colab": {}
      },
      "source": [
        "os.chdir('/content')\n",
        "#Dwonload files config.py, utils.py, datasets.py, pretrain_DAMSM.py\n",
        "!git clone https://github.com/ammarnasr/CUB-Attn-GAN.git\n",
        "\n",
        "# #Move Models text and image encoder to their /content/\n",
        "!mv /content/CUB-Attn-GAN/theModel/text_encoder599.pth /content/\n",
        "!mv /content/CUB-Attn-GAN/theModel/image_encoder599.pth /content/\n",
        "!mv /content/CUB-Attn-GAN/theCode/GAN/netG_epoch_600.pth /content/\n",
        "\n",
        "#Remove the Repo\n",
        "!rm -r /content/CUB-Attn-GAN/\n",
        "\n",
        "#Move Models text and image encoder to their /content/\n",
        "!mv /content/text_encoder599.pth /content/AttnGAN/DAMSMencoders/bird/\n",
        "!mv /content/image_encoder599.pth /content/AttnGAN/DAMSMencoders/bird/\n",
        "!mv /content/netG_epoch_600.pth /content/AttnGAN/models/"
      ],
      "execution_count": null,
      "outputs": []
    },
    {
      "cell_type": "markdown",
      "metadata": {
        "id": "1NhlvNfvcihB",
        "colab_type": "text"
      },
      "source": [
        "==================================================================================================================="
      ]
    },
    {
      "cell_type": "code",
      "metadata": {
        "id": "bL5P9M-ecd1m",
        "colab_type": "code",
        "colab": {}
      },
      "source": [
        "os.chdir('/content')\n",
        "!rm -r Validate-CUB\n",
        "!git clone https://github.com/ammarnasr/Validate-CUB.git"
      ],
      "execution_count": null,
      "outputs": []
    },
    {
      "cell_type": "code",
      "metadata": {
        "id": "AM32T-eydhVp",
        "colab_type": "code",
        "colab": {}
      },
      "source": [
        "!mv /content/Validate-CUB/code/utils.py /content/AttnGAN/code/miscc/\n",
        "!mv /content/Validate-CUB/code/config.py /content/AttnGAN/code/miscc/\n",
        "!mv /content/Validate-CUB/code/datasets.py /content/AttnGAN/code/\n",
        "!mv /content/Validate-CUB/code/main.py /content/AttnGAN/code/\n",
        "!mv /content/Validate-CUB/code/trainer.py /content/AttnGAN/code/\n",
        "!mv /content/Validate-CUB/code/eval_bird.yml /content/AttnGAN/code/cfg/"
      ],
      "execution_count": 24,
      "outputs": []
    },
    {
      "cell_type": "code",
      "metadata": {
        "id": "Hyy9vb-Ebkac",
        "colab_type": "code",
        "colab": {}
      },
      "source": [
        "os.chdir('/content/AttnGAN/code')\n",
        "\n",
        "!python main.py --cfg cfg/eval_bird.yml --gpu 0"
      ],
      "execution_count": null,
      "outputs": []
    },
    {
      "cell_type": "markdown",
      "metadata": {
        "id": "aPs_qjtGwTuU",
        "colab_type": "text"
      },
      "source": [
        "### Zip /content/AttnGAN/models/netG_epoch_600"
      ]
    },
    {
      "cell_type": "code",
      "metadata": {
        "id": "om7wrmbLb7Rh",
        "colab_type": "code",
        "colab": {}
      },
      "source": [
        "os.chdir('/content/AttnGAN/models')\n",
        "!zip -r B_val_true.zip netG_epoch_600"
      ],
      "execution_count": null,
      "outputs": []
    },
    {
      "cell_type": "code",
      "metadata": {
        "id": "u3K2hYHG6BJF",
        "colab_type": "code",
        "colab": {}
      },
      "source": [
        "!cp '/content/AttnGAN/models/B_val_true.zip' '/content/drive/My Drive/B_val_true/'"
      ],
      "execution_count": 30,
      "outputs": []
    },
    {
      "cell_type": "code",
      "metadata": {
        "id": "DQfw6Wr_6LzM",
        "colab_type": "code",
        "colab": {}
      },
      "source": [
        "!cp -r '/content/AttnGAN/models/netG_epoch_600/' '/content/drive/My Drive/B_val_true/'"
      ],
      "execution_count": 31,
      "outputs": []
    },
    {
      "cell_type": "code",
      "metadata": {
        "id": "Fa7msPYSB1L8",
        "colab_type": "code",
        "colab": {}
      },
      "source": [
        "!cp -r '/content/AttnGAN/models/netG_epoch_600/valid/single/' '/content/'"
      ],
      "execution_count": 50,
      "outputs": []
    },
    {
      "cell_type": "markdown",
      "metadata": {
        "id": "17K4754i7U0e",
        "colab_type": "text"
      },
      "source": [
        "# Validiate"
      ]
    },
    {
      "cell_type": "code",
      "metadata": {
        "id": "asxeaLP97AbP",
        "colab_type": "code",
        "colab": {}
      },
      "source": [
        "import os\n",
        "os.chdir('/content')"
      ],
      "execution_count": 32,
      "outputs": []
    },
    {
      "cell_type": "code",
      "metadata": {
        "id": "fVSxq-I97lqh",
        "colab_type": "code",
        "colab": {}
      },
      "source": [
        "os.chdir('/content')\n",
        "!git clone https://github.com/hanzhanggit/StackGAN-inception-model.git"
      ],
      "execution_count": null,
      "outputs": []
    },
    {
      "cell_type": "code",
      "metadata": {
        "id": "5brgrOz09n7_",
        "colab_type": "code",
        "colab": {}
      },
      "source": [
        "os.chdir('/content/StackGAN-inception-model/')\n",
        "!wget --load-cookies /tmp/cookies.txt \"https://docs.google.com/uc?export=download&confirm=$(wget --quiet --save-cookies /tmp/cookies.txt --keep-session-cookies --no-check-certificate 'https://docs.google.com/uc?export=download&id=0B3y_msrWZaXLMzNMNWhWdW0zVWs' -O- | sed -rn 's/.*confirm=([0-9A-Za-z_]+).*/\\1\\n/p')&id=0B3y_msrWZaXLMzNMNWhWdW0zVWs\" -O inception_finetuned_models.zip && rm -rf /tmp/cookies.txt\n",
        "!unzip -q inception_finetuned_models.zip\n",
        "!rm inception_finetuned_models.zip\n",
        "!rm README.md\n",
        "!rm -r __MACOSX/"
      ],
      "execution_count": null,
      "outputs": []
    },
    {
      "cell_type": "code",
      "metadata": {
        "id": "aMV2BWfXCnzk",
        "colab_type": "code",
        "colab": {}
      },
      "source": [
        "!pip install scipy==1.1.0"
      ],
      "execution_count": null,
      "outputs": []
    },
    {
      "cell_type": "markdown",
      "metadata": {
        "id": "Xi8pXmQiAZAW",
        "colab_type": "text"
      },
      "source": [
        "==================================================================================================================="
      ]
    },
    {
      "cell_type": "code",
      "metadata": {
        "id": "TLuWxh9-AXAn",
        "colab_type": "code",
        "colab": {}
      },
      "source": [
        "os.chdir('/content')\n",
        "!rm -r Validate-CUB\n",
        "!git clone https://github.com/ammarnasr/Validate-CUB.git"
      ],
      "execution_count": null,
      "outputs": []
    },
    {
      "cell_type": "code",
      "metadata": {
        "id": "MjbwWJ_KAljQ",
        "colab_type": "code",
        "colab": {}
      },
      "source": [
        "!mv /content/Validate-CUB/code/inception_score.py /content/StackGAN-inception-model/"
      ],
      "execution_count": 86,
      "outputs": []
    },
    {
      "cell_type": "code",
      "metadata": {
        "id": "EvcpNzGb8sof",
        "colab_type": "code",
        "colab": {}
      },
      "source": [
        "os.chdir('/content/StackGAN-inception-model/')\n",
        "%tensorflow_version 1.x\n",
        "!python inception_score.py --image_folder '/content/single/'"
      ],
      "execution_count": null,
      "outputs": []
    }
  ]
}