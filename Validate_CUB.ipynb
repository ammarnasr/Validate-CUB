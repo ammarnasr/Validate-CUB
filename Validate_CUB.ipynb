{
  "nbformat": 4,
  "nbformat_minor": 0,
  "metadata": {
    "colab": {
      "name": "Validate-CUB.ipynb",
      "provenance": [],
      "collapsed_sections": []
    },
    "kernelspec": {
      "name": "python3",
      "display_name": "Python 3"
    },
    "accelerator": "GPU"
  },
  "cells": [
    {
      "cell_type": "code",
      "metadata": {
        "id": "zA9csLagcI02",
        "colab_type": "code",
        "colab": {}
      },
      "source": [
        "import os"
      ],
      "execution_count": null,
      "outputs": []
    },
    {
      "cell_type": "code",
      "metadata": {
        "id": "PolBTuJBb_6H",
        "colab_type": "code",
        "colab": {}
      },
      "source": [
        "os.chdir('/content')\n",
        "!rm -r AttnGAN\n",
        "!git clone https://github.com/taoxugit/AttnGAN.git"
      ],
      "execution_count": null,
      "outputs": []
    },
    {
      "cell_type": "code",
      "metadata": {
        "id": "DBM_tUR4fbtm",
        "colab_type": "code",
        "colab": {}
      },
      "source": [
        "os.chdir('/content/AttnGAN/data/')\n",
        "!wget --no-check-certificate 'https://docs.google.com/uc?export=download&id=1O_LtUP9sch09QH3s_EBAgLEctBQ5JBSJ' -O birds.zip\n",
        "!unzip -q birds.zip\n",
        "!rm birds.zip\n",
        "!rm -r __MACOSX/"
      ],
      "execution_count": null,
      "outputs": []
    },
    {
      "cell_type": "code",
      "metadata": {
        "id": "9oOwplfXf6aK",
        "colab_type": "code",
        "colab": {}
      },
      "source": [
        "os.chdir('/content/AttnGAN/data/birds')\n",
        "!unzip -q text.zip\n",
        "!rm text.zip"
      ],
      "execution_count": 19,
      "outputs": []
    },
    {
      "cell_type": "code",
      "metadata": {
        "id": "T5ueMbDcgYo2",
        "colab_type": "code",
        "colab": {}
      },
      "source": [
        "os.chdir('/content/AttnGAN/data/birds/')\n",
        "!wget http://www.vision.caltech.edu/visipedia-data/CUB-200-2011/CUB_200_2011.tgz\n",
        "!tar zxf  CUB_200_2011.tgz\n",
        "!rm CUB_200_2011.tgz"
      ],
      "execution_count": null,
      "outputs": []
    },
    {
      "cell_type": "code",
      "metadata": {
        "id": "kMT2FQDhlEWy",
        "colab_type": "code",
        "colab": {}
      },
      "source": [
        "os.chdir('/content/AttnGAN/DAMSMencoders/')\n",
        "os.mkdir('bird')"
      ],
      "execution_count": 28,
      "outputs": []
    },
    {
      "cell_type": "code",
      "metadata": {
        "id": "XaEngHiXsOr3",
        "colab_type": "code",
        "colab": {}
      },
      "source": [
        "os.chdir('/content/AttnGAN/code/')\n",
        "!wget --no-check-certificate 'https://docs.google.com/uc?export=download&id=1Wr3lQajG7m6Bi3rYFTJb6mwE_d8su111' -O Pillow.rar\n",
        "!unrar x  Pillow.rar\n",
        "!rm Pillow.rar"
      ],
      "execution_count": null,
      "outputs": []
    },
    {
      "cell_type": "code",
      "metadata": {
        "id": "8_-RVVeUkKvD",
        "colab_type": "code",
        "colab": {
          "base_uri": "https://localhost:8080/",
          "height": 150
        },
        "outputId": "b8d4ac0f-efdd-4147-e7fa-dc0386e85bb5"
      },
      "source": [
        "os.chdir('/content')\n",
        "#Dwonload files config.py, utils.py, datasets.py, pretrain_DAMSM.py\n",
        "!git clone https://github.com/ammarnasr/CUB-Attn-GAN.git\n",
        "\n",
        "# #Move Models text and image encoder to their /content/\n",
        "!mv /content/CUB-Attn-GAN/theModel/text_encoder599.pth /content/\n",
        "!mv /content/CUB-Attn-GAN/theModel/image_encoder599.pth /content/\n",
        "!mv /content/CUB-Attn-GAN/theCode/GAN/netG_epoch_600.pth /content/\n",
        "\n",
        "#Remove the Repo\n",
        "!rm -r /content/CUB-Attn-GAN/\n",
        "\n",
        "#Move Models text and image encoder to their /content/\n",
        "!mv /content/text_encoder599.pth /content/AttnGAN/DAMSMencoders/bird/\n",
        "!mv /content/image_encoder599.pth /content/AttnGAN/DAMSMencoders/bird/\n",
        "!mv /content/netG_epoch_600.pth /content/AttnGAN/models/"
      ],
      "execution_count": 40,
      "outputs": [
        {
          "output_type": "stream",
          "text": [
            "Cloning into 'CUB-Attn-GAN'...\n",
            "remote: Enumerating objects: 218, done.\u001b[K\n",
            "remote: Counting objects: 100% (218/218), done.\u001b[K\n",
            "remote: Compressing objects: 100% (138/138), done.\u001b[K\n",
            "remote: Total 482 (delta 136), reused 152 (delta 72), pack-reused 264\u001b[K\n",
            "Receiving objects: 100% (482/482), 253.08 MiB | 32.64 MiB/s, done.\n",
            "Resolving deltas: 100% (260/260), done.\n",
            "Checking out files: 100% (71/71), done.\n"
          ],
          "name": "stdout"
        }
      ]
    },
    {
      "cell_type": "markdown",
      "metadata": {
        "id": "1NhlvNfvcihB",
        "colab_type": "text"
      },
      "source": [
        "==================================================================================================================="
      ]
    },
    {
      "cell_type": "code",
      "metadata": {
        "id": "bL5P9M-ecd1m",
        "colab_type": "code",
        "colab": {
          "base_uri": "https://localhost:8080/",
          "height": 117
        },
        "outputId": "681cfcb5-fb11-4eb0-f7a3-8dc5cec8fd66"
      },
      "source": [
        "os.chdir('/content')\n",
        "!rm -r Validate-CUB\n",
        "!git clone https://github.com/ammarnasr/Validate-CUB.git"
      ],
      "execution_count": 49,
      "outputs": [
        {
          "output_type": "stream",
          "text": [
            "Cloning into 'Validate-CUB'...\n",
            "remote: Enumerating objects: 43, done.\u001b[K\n",
            "remote: Counting objects: 100% (43/43), done.\u001b[K\n",
            "remote: Compressing objects: 100% (32/32), done.\u001b[K\n",
            "remote: Total 43 (delta 16), reused 32 (delta 8), pack-reused 0\u001b[K\n",
            "Unpacking objects: 100% (43/43), done.\n"
          ],
          "name": "stdout"
        }
      ]
    },
    {
      "cell_type": "code",
      "metadata": {
        "id": "AM32T-eydhVp",
        "colab_type": "code",
        "colab": {}
      },
      "source": [
        "!mv /content/Validate-CUB/code/utils.py /content/AttnGAN/code/miscc/\n",
        "!mv /content/Validate-CUB/code/config.py /content/AttnGAN/code/miscc/\n",
        "!mv /content/Validate-CUB/code/datasets.py /content/AttnGAN/code/\n",
        "!mv /content/Validate-CUB/code/main.py /content/AttnGAN/code/\n",
        "!mv /content/Validate-CUB/code/eval_bird.yml /content/AttnGAN/code/cfg/"
      ],
      "execution_count": 50,
      "outputs": []
    },
    {
      "cell_type": "code",
      "metadata": {
        "id": "Hyy9vb-Ebkac",
        "colab_type": "code",
        "colab": {
          "base_uri": "https://localhost:8080/",
          "height": 1000
        },
        "outputId": "cf500492-41e6-4d2d-b18e-b3ffa3fe5246"
      },
      "source": [
        "os.chdir('/content/AttnGAN/code')\n",
        "\n",
        "!python main.py --cfg cfg/eval_bird.yml --gpu 0"
      ],
      "execution_count": null,
      "outputs": [
        {
          "output_type": "stream",
          "text": [
            "Using config:\n",
            "{'B_VALIDATION': False,\n",
            " 'CONFIG_NAME': 'attn2',\n",
            " 'CUDA': True,\n",
            " 'DATASET_NAME': 'birds',\n",
            " 'DATA_DIR': '../data/birds',\n",
            " 'GAN': {'B_ATTENTION': True,\n",
            "         'B_DCGAN': False,\n",
            "         'CONDITION_DIM': 100,\n",
            "         'DF_DIM': 64,\n",
            "         'GF_DIM': 32,\n",
            "         'R_NUM': 2,\n",
            "         'Z_DIM': 100},\n",
            " 'GPU_ID': 0,\n",
            " 'RNN_TYPE': 'LSTM',\n",
            " 'TEXT': {'CAPTIONS_PER_IMAGE': 10, 'EMBEDDING_DIM': 256, 'WORDS_NUM': 25},\n",
            " 'TRAIN': {'BATCH_SIZE': 100,\n",
            "           'B_NET_D': False,\n",
            "           'DISCRIMINATOR_LR': 0.0002,\n",
            "           'ENCODER_LR': 0.0002,\n",
            "           'FLAG': False,\n",
            "           'GENERATOR_LR': 0.0002,\n",
            "           'MAX_EPOCH': 600,\n",
            "           'NET_E': '../DAMSMencoders/bird/text_encoder599.pth',\n",
            "           'NET_G': '../models/netG_epoch_600.pth',\n",
            "           'RNN_GRAD_CLIP': 0.25,\n",
            "           'SMOOTH': {'GAMMA1': 5.0,\n",
            "                      'GAMMA2': 5.0,\n",
            "                      'GAMMA3': 10.0,\n",
            "                      'LAMBDA': 1.0},\n",
            "           'SNAPSHOT_INTERVAL': 2000},\n",
            " 'TREE': {'BASE_SIZE': 64, 'BRANCH_NUM': 3},\n",
            " 'WORKERS': 1}\n",
            "/usr/local/lib/python3.6/dist-packages/torchvision/transforms/transforms.py:211: UserWarning: The use of the transforms.Scale transform is deprecated, please use transforms.Resize instead.\n",
            "  \"please use transforms.Resize instead.\")\n",
            "Total filenames:  11788 001.Black_footed_Albatross/Black_Footed_Albatross_0046_18.jpg\n",
            "Load filenames from: ../data/birds/train/filenames.pickle (8855)\n",
            "Load filenames from: ../data/birds/test/filenames.pickle (2933)\n",
            "Load from:  ../data/birds/captions.pickle\n",
            "Load from: example_captions\n",
            "Load from: text/180.Wilson_Warbler/Wilson_Warbler_0007_175618\n",
            "Load from: text/180.Wilson_Warbler/Wilson_Warbler_0024_175278\n",
            "Load from: text/180.Wilson_Warbler/Wilson_Warbler_0074_175645\n",
            "Load from: text/180.Wilson_Warbler/Wilson_Warbler_0107_175320\n",
            "Load from: text/165.Chestnut_sided_Warbler/Chestnut_Sided_Warbler_0001_163813\n",
            "Load from: text/165.Chestnut_sided_Warbler/Chestnut_Sided_Warbler_0008_164001\n",
            "Load from: text/165.Chestnut_sided_Warbler/Chestnut_Sided_Warbler_0016_164060\n",
            "Load from: text/165.Chestnut_sided_Warbler/Chestnut_Sided_Warbler_0035_163587\n",
            "Load from: text/165.Chestnut_sided_Warbler/Chestnut_Sided_Warbler_0101_164324\n",
            "Load from: text/165.Chestnut_sided_Warbler/Chestnut_Sided_Warbler_0103_163669\n",
            "Load from: text/138.Tree_Swallow/Tree_Swallow_0002_136792\n",
            "Load from: text/138.Tree_Swallow/Tree_Swallow_0008_135352\n",
            "Load from: text/138.Tree_Swallow/Tree_Swallow_0030_134942\n",
            "Load from: text/138.Tree_Swallow/Tree_Swallow_0050_135104\n",
            "Load from: text/138.Tree_Swallow/Tree_Swallow_0117_134925\n",
            "Load from: text/098.Scott_Oriole/Scott_Oriole_0002_795829\n",
            "Load from: text/098.Scott_Oriole/Scott_Oriole_0014_795827\n",
            "Load from: text/098.Scott_Oriole/Scott_Oriole_0018_795840\n",
            "Load from: text/098.Scott_Oriole/Scott_Oriole_0046_92371\n",
            "Load from: text/035.Purple_Finch/Purple_Finch_0013_27506\n",
            "Load from: text/035.Purple_Finch/Purple_Finch_0014_27322\n",
            "Load from: text/035.Purple_Finch/Purple_Finch_0023_27986\n",
            "Load from: text/035.Purple_Finch/Purple_Finch_0025_28174\n",
            "/usr/local/lib/python3.6/dist-packages/torch/nn/modules/rnn.py:50: UserWarning: dropout option adds dropout after all but last recurrent layer, so non-zero dropout expects num_layers greater than 1, but got dropout=0.5 and num_layers=1\n",
            "  \"num_layers={}\".format(dropout, num_layers))\n",
            "Load text encoder from: ../DAMSMencoders/bird/text_encoder599.pth\n",
            "Load G from:  ../models/netG_epoch_600.pth\n",
            "/content/AttnGAN/code/trainer.py:466: UserWarning: volatile was removed and now has no effect. Use `with torch.no_grad():` instead.\n",
            "  captions = Variable(torch.from_numpy(captions), volatile=True)\n",
            "/content/AttnGAN/code/trainer.py:467: UserWarning: volatile was removed and now has no effect. Use `with torch.no_grad():` instead.\n",
            "  cap_lens = Variable(torch.from_numpy(cap_lens), volatile=True)\n",
            "/content/AttnGAN/code/trainer.py:472: UserWarning: volatile was removed and now has no effect. Use `with torch.no_grad():` instead.\n",
            "  noise = Variable(torch.FloatTensor(batch_size, nz), volatile=True)\n",
            "/usr/local/lib/python3.6/dist-packages/torch/nn/functional.py:1569: UserWarning: nn.functional.sigmoid is deprecated. Use torch.sigmoid instead.\n",
            "  warnings.warn(\"nn.functional.sigmoid is deprecated. Use torch.sigmoid instead.\")\n",
            "/content/AttnGAN/code/GlobalAttention.py:109: UserWarning: Implicit dimension choice for softmax has been deprecated. Change the call to include dim=X as an argument.\n",
            "  attn = self.sm(attn)  # Eq. (2)\n",
            "/usr/local/lib/python3.6/dist-packages/torch/nn/functional.py:2973: UserWarning: Default upsampling behavior when mode=bilinear is changed to align_corners=False since 0.4.0. Please specify align_corners=True if the old behavior is desired. See the documentation of nn.Upsample for details.\n",
            "  \"See the documentation of nn.Upsample for details.\".format(mode))\n",
            "CURRENT WORKING DIRCTORY :  /content/AttnGAN/code\n",
            "/content/AttnGAN/code/miscc/utils.py:344: RuntimeWarning: invalid value encountered in true_divide\n",
            "  one_map = (one_map - minV) / (maxV - minV)\n",
            "CURRENT WORKING DIRCTORY :  /content/AttnGAN/code\n",
            "CURRENT WORKING DIRCTORY :  /content/AttnGAN/code\n",
            "CURRENT WORKING DIRCTORY :  /content/AttnGAN/code\n",
            "CURRENT WORKING DIRCTORY :  /content/AttnGAN/code\n",
            "CURRENT WORKING DIRCTORY :  /content/AttnGAN/code\n",
            "CURRENT WORKING DIRCTORY :  /content/AttnGAN/code\n",
            "CURRENT WORKING DIRCTORY :  /content/AttnGAN/code\n",
            "CURRENT WORKING DIRCTORY :  /content/AttnGAN/code\n",
            "CURRENT WORKING DIRCTORY :  /content/AttnGAN/code\n",
            "CURRENT WORKING DIRCTORY :  /content/AttnGAN/code\n",
            "CURRENT WORKING DIRCTORY :  /content/AttnGAN/code\n",
            "CURRENT WORKING DIRCTORY :  /content/AttnGAN/code\n",
            "CURRENT WORKING DIRCTORY :  /content/AttnGAN/code\n",
            "CURRENT WORKING DIRCTORY :  /content/AttnGAN/code\n",
            "CURRENT WORKING DIRCTORY :  /content/AttnGAN/code\n",
            "CURRENT WORKING DIRCTORY :  /content/AttnGAN/code\n",
            "CURRENT WORKING DIRCTORY :  /content/AttnGAN/code\n",
            "CURRENT WORKING DIRCTORY :  /content/AttnGAN/code\n",
            "CURRENT WORKING DIRCTORY :  /content/AttnGAN/code\n",
            "CURRENT WORKING DIRCTORY :  /content/AttnGAN/code\n",
            "CURRENT WORKING DIRCTORY :  /content/AttnGAN/code\n",
            "CURRENT WORKING DIRCTORY :  /content/AttnGAN/code\n",
            "CURRENT WORKING DIRCTORY :  /content/AttnGAN/code\n",
            "CURRENT WORKING DIRCTORY :  /content/AttnGAN/code\n",
            "CURRENT WORKING DIRCTORY :  /content/AttnGAN/code\n",
            "CURRENT WORKING DIRCTORY :  /content/AttnGAN/code\n",
            "CURRENT WORKING DIRCTORY :  /content/AttnGAN/code\n",
            "CURRENT WORKING DIRCTORY :  /content/AttnGAN/code\n",
            "CURRENT WORKING DIRCTORY :  /content/AttnGAN/code\n",
            "CURRENT WORKING DIRCTORY :  /content/AttnGAN/code\n",
            "CURRENT WORKING DIRCTORY :  /content/AttnGAN/code\n",
            "CURRENT WORKING DIRCTORY :  /content/AttnGAN/code\n",
            "CURRENT WORKING DIRCTORY :  /content/AttnGAN/code\n",
            "CURRENT WORKING DIRCTORY :  /content/AttnGAN/code\n",
            "CURRENT WORKING DIRCTORY :  /content/AttnGAN/code\n",
            "CURRENT WORKING DIRCTORY :  /content/AttnGAN/code\n",
            "CURRENT WORKING DIRCTORY :  /content/AttnGAN/code\n",
            "CURRENT WORKING DIRCTORY :  /content/AttnGAN/code\n",
            "CURRENT WORKING DIRCTORY :  /content/AttnGAN/code\n",
            "CURRENT WORKING DIRCTORY :  /content/AttnGAN/code\n",
            "CURRENT WORKING DIRCTORY :  /content/AttnGAN/code\n",
            "CURRENT WORKING DIRCTORY :  /content/AttnGAN/code\n",
            "CURRENT WORKING DIRCTORY :  /content/AttnGAN/code\n",
            "CURRENT WORKING DIRCTORY :  /content/AttnGAN/code\n",
            "CURRENT WORKING DIRCTORY :  /content/AttnGAN/code\n",
            "CURRENT WORKING DIRCTORY :  /content/AttnGAN/code\n",
            "CURRENT WORKING DIRCTORY :  /content/AttnGAN/code\n",
            "CURRENT WORKING DIRCTORY :  /content/AttnGAN/code\n",
            "CURRENT WORKING DIRCTORY :  /content/AttnGAN/code\n",
            "CURRENT WORKING DIRCTORY :  /content/AttnGAN/code\n",
            "CURRENT WORKING DIRCTORY :  /content/AttnGAN/code\n",
            "CURRENT WORKING DIRCTORY :  /content/AttnGAN/code\n",
            "CURRENT WORKING DIRCTORY :  /content/AttnGAN/code\n",
            "CURRENT WORKING DIRCTORY :  /content/AttnGAN/code\n",
            "CURRENT WORKING DIRCTORY :  /content/AttnGAN/code\n",
            "CURRENT WORKING DIRCTORY :  /content/AttnGAN/code\n",
            "CURRENT WORKING DIRCTORY :  /content/AttnGAN/code\n",
            "CURRENT WORKING DIRCTORY :  /content/AttnGAN/code\n",
            "CURRENT WORKING DIRCTORY :  /content/AttnGAN/code\n",
            "CURRENT WORKING DIRCTORY :  /content/AttnGAN/code\n",
            "CURRENT WORKING DIRCTORY :  /content/AttnGAN/code\n",
            "CURRENT WORKING DIRCTORY :  /content/AttnGAN/code\n",
            "CURRENT WORKING DIRCTORY :  /content/AttnGAN/code\n",
            "CURRENT WORKING DIRCTORY :  /content/AttnGAN/code\n",
            "CURRENT WORKING DIRCTORY :  /content/AttnGAN/code\n",
            "CURRENT WORKING DIRCTORY :  /content/AttnGAN/code\n",
            "CURRENT WORKING DIRCTORY :  /content/AttnGAN/code\n",
            "CURRENT WORKING DIRCTORY :  /content/AttnGAN/code\n",
            "CURRENT WORKING DIRCTORY :  /content/AttnGAN/code\n",
            "CURRENT WORKING DIRCTORY :  /content/AttnGAN/code\n",
            "CURRENT WORKING DIRCTORY :  /content/AttnGAN/code\n",
            "CURRENT WORKING DIRCTORY :  /content/AttnGAN/code\n",
            "CURRENT WORKING DIRCTORY :  /content/AttnGAN/code\n",
            "CURRENT WORKING DIRCTORY :  /content/AttnGAN/code\n",
            "CURRENT WORKING DIRCTORY :  /content/AttnGAN/code\n",
            "CURRENT WORKING DIRCTORY :  /content/AttnGAN/code\n",
            "CURRENT WORKING DIRCTORY :  /content/AttnGAN/code\n",
            "CURRENT WORKING DIRCTORY :  /content/AttnGAN/code\n",
            "CURRENT WORKING DIRCTORY :  /content/AttnGAN/code\n",
            "CURRENT WORKING DIRCTORY :  /content/AttnGAN/code\n",
            "CURRENT WORKING DIRCTORY :  /content/AttnGAN/code\n",
            "CURRENT WORKING DIRCTORY :  /content/AttnGAN/code\n",
            "CURRENT WORKING DIRCTORY :  /content/AttnGAN/code\n",
            "CURRENT WORKING DIRCTORY :  /content/AttnGAN/code\n",
            "CURRENT WORKING DIRCTORY :  /content/AttnGAN/code\n",
            "CURRENT WORKING DIRCTORY :  /content/AttnGAN/code\n",
            "CURRENT WORKING DIRCTORY :  /content/AttnGAN/code\n",
            "CURRENT WORKING DIRCTORY :  /content/AttnGAN/code\n",
            "CURRENT WORKING DIRCTORY :  /content/AttnGAN/code\n",
            "CURRENT WORKING DIRCTORY :  /content/AttnGAN/code\n",
            "CURRENT WORKING DIRCTORY :  /content/AttnGAN/code\n",
            "CURRENT WORKING DIRCTORY :  /content/AttnGAN/code\n",
            "CURRENT WORKING DIRCTORY :  /content/AttnGAN/code\n",
            "CURRENT WORKING DIRCTORY :  /content/AttnGAN/code\n",
            "CURRENT WORKING DIRCTORY :  /content/AttnGAN/code\n",
            "CURRENT WORKING DIRCTORY :  /content/AttnGAN/code\n",
            "CURRENT WORKING DIRCTORY :  /content/AttnGAN/code\n",
            "CURRENT WORKING DIRCTORY :  /content/AttnGAN/code\n",
            "CURRENT WORKING DIRCTORY :  /content/AttnGAN/code\n",
            "CURRENT WORKING DIRCTORY :  /content/AttnGAN/code\n",
            "CURRENT WORKING DIRCTORY :  /content/AttnGAN/code\n",
            "CURRENT WORKING DIRCTORY :  /content/AttnGAN/code\n",
            "CURRENT WORKING DIRCTORY :  /content/AttnGAN/code\n",
            "CURRENT WORKING DIRCTORY :  /content/AttnGAN/code\n",
            "CURRENT WORKING DIRCTORY :  /content/AttnGAN/code\n",
            "CURRENT WORKING DIRCTORY :  /content/AttnGAN/code\n",
            "CURRENT WORKING DIRCTORY :  /content/AttnGAN/code\n",
            "CURRENT WORKING DIRCTORY :  /content/AttnGAN/code\n",
            "CURRENT WORKING DIRCTORY :  /content/AttnGAN/code\n",
            "CURRENT WORKING DIRCTORY :  /content/AttnGAN/code\n",
            "CURRENT WORKING DIRCTORY :  /content/AttnGAN/code\n",
            "CURRENT WORKING DIRCTORY :  /content/AttnGAN/code\n",
            "CURRENT WORKING DIRCTORY :  /content/AttnGAN/code\n",
            "CURRENT WORKING DIRCTORY :  /content/AttnGAN/code\n",
            "CURRENT WORKING DIRCTORY :  /content/AttnGAN/code\n",
            "CURRENT WORKING DIRCTORY :  /content/AttnGAN/code\n",
            "CURRENT WORKING DIRCTORY :  /content/AttnGAN/code\n",
            "CURRENT WORKING DIRCTORY :  /content/AttnGAN/code\n",
            "CURRENT WORKING DIRCTORY :  /content/AttnGAN/code\n",
            "CURRENT WORKING DIRCTORY :  /content/AttnGAN/code\n",
            "CURRENT WORKING DIRCTORY :  /content/AttnGAN/code\n",
            "CURRENT WORKING DIRCTORY :  /content/AttnGAN/code\n",
            "CURRENT WORKING DIRCTORY :  /content/AttnGAN/code\n",
            "CURRENT WORKING DIRCTORY :  /content/AttnGAN/code\n",
            "CURRENT WORKING DIRCTORY :  /content/AttnGAN/code\n",
            "CURRENT WORKING DIRCTORY :  /content/AttnGAN/code\n",
            "CURRENT WORKING DIRCTORY :  /content/AttnGAN/code\n",
            "CURRENT WORKING DIRCTORY :  /content/AttnGAN/code\n",
            "CURRENT WORKING DIRCTORY :  /content/AttnGAN/code\n",
            "CURRENT WORKING DIRCTORY :  /content/AttnGAN/code\n",
            "CURRENT WORKING DIRCTORY :  /content/AttnGAN/code\n",
            "CURRENT WORKING DIRCTORY :  /content/AttnGAN/code\n",
            "CURRENT WORKING DIRCTORY :  /content/AttnGAN/code\n",
            "CURRENT WORKING DIRCTORY :  /content/AttnGAN/code\n",
            "CURRENT WORKING DIRCTORY :  /content/AttnGAN/code\n",
            "CURRENT WORKING DIRCTORY :  /content/AttnGAN/code\n",
            "CURRENT WORKING DIRCTORY :  /content/AttnGAN/code\n",
            "CURRENT WORKING DIRCTORY :  /content/AttnGAN/code\n",
            "CURRENT WORKING DIRCTORY :  /content/AttnGAN/code\n",
            "CURRENT WORKING DIRCTORY :  /content/AttnGAN/code\n",
            "CURRENT WORKING DIRCTORY :  /content/AttnGAN/code\n",
            "CURRENT WORKING DIRCTORY :  /content/AttnGAN/code\n",
            "CURRENT WORKING DIRCTORY :  /content/AttnGAN/code\n",
            "CURRENT WORKING DIRCTORY :  /content/AttnGAN/code\n",
            "CURRENT WORKING DIRCTORY :  /content/AttnGAN/code\n",
            "CURRENT WORKING DIRCTORY :  /content/AttnGAN/code\n",
            "CURRENT WORKING DIRCTORY :  /content/AttnGAN/code\n",
            "CURRENT WORKING DIRCTORY :  /content/AttnGAN/code\n",
            "CURRENT WORKING DIRCTORY :  /content/AttnGAN/code\n",
            "CURRENT WORKING DIRCTORY :  /content/AttnGAN/code\n",
            "CURRENT WORKING DIRCTORY :  /content/AttnGAN/code\n",
            "CURRENT WORKING DIRCTORY :  /content/AttnGAN/code\n",
            "CURRENT WORKING DIRCTORY :  /content/AttnGAN/code\n",
            "CURRENT WORKING DIRCTORY :  /content/AttnGAN/code\n",
            "CURRENT WORKING DIRCTORY :  /content/AttnGAN/code\n",
            "CURRENT WORKING DIRCTORY :  /content/AttnGAN/code\n",
            "CURRENT WORKING DIRCTORY :  /content/AttnGAN/code\n",
            "CURRENT WORKING DIRCTORY :  /content/AttnGAN/code\n",
            "CURRENT WORKING DIRCTORY :  /content/AttnGAN/code\n",
            "CURRENT WORKING DIRCTORY :  /content/AttnGAN/code\n",
            "CURRENT WORKING DIRCTORY :  /content/AttnGAN/code\n",
            "CURRENT WORKING DIRCTORY :  /content/AttnGAN/code\n",
            "CURRENT WORKING DIRCTORY :  /content/AttnGAN/code\n",
            "CURRENT WORKING DIRCTORY :  /content/AttnGAN/code\n",
            "CURRENT WORKING DIRCTORY :  /content/AttnGAN/code\n",
            "CURRENT WORKING DIRCTORY :  /content/AttnGAN/code\n",
            "CURRENT WORKING DIRCTORY :  /content/AttnGAN/code\n",
            "CURRENT WORKING DIRCTORY :  /content/AttnGAN/code\n",
            "CURRENT WORKING DIRCTORY :  /content/AttnGAN/code\n",
            "CURRENT WORKING DIRCTORY :  /content/AttnGAN/code\n",
            "CURRENT WORKING DIRCTORY :  /content/AttnGAN/code\n",
            "CURRENT WORKING DIRCTORY :  /content/AttnGAN/code\n",
            "CURRENT WORKING DIRCTORY :  /content/AttnGAN/code\n",
            "CURRENT WORKING DIRCTORY :  /content/AttnGAN/code\n",
            "CURRENT WORKING DIRCTORY :  /content/AttnGAN/code\n",
            "CURRENT WORKING DIRCTORY :  /content/AttnGAN/code\n",
            "CURRENT WORKING DIRCTORY :  /content/AttnGAN/code\n",
            "CURRENT WORKING DIRCTORY :  /content/AttnGAN/code\n",
            "CURRENT WORKING DIRCTORY :  /content/AttnGAN/code\n",
            "CURRENT WORKING DIRCTORY :  /content/AttnGAN/code\n",
            "CURRENT WORKING DIRCTORY :  /content/AttnGAN/code\n"
          ],
          "name": "stdout"
        }
      ]
    },
    {
      "cell_type": "markdown",
      "metadata": {
        "id": "aPs_qjtGwTuU",
        "colab_type": "text"
      },
      "source": [
        "### Zip /content/AttnGAN/models/netG_epoch_600"
      ]
    },
    {
      "cell_type": "code",
      "metadata": {
        "id": "om7wrmbLb7Rh",
        "colab_type": "code",
        "colab": {}
      },
      "source": [
        ""
      ],
      "execution_count": null,
      "outputs": []
    }
  ]
}